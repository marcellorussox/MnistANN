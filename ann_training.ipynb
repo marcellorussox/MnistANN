{
 "cells": [
  {
   "cell_type": "code",
   "outputs": [
    {
     "name": "stdout",
     "output_type": "stream",
     "text": [
      "Numero di strati nascosti: 1\n",
      "Dimensione dell'input: 784\n",
      "Dimensione dell'output: 10\n",
      "Neuroni negli strati nascosti: 100\n",
      "Funzioni di attivazione: tanh, identity\n",
      "Funzione di errore: cross_entropy_softmax\n"
     ]
    }
   ],
   "source": [
    "from uninaannpy import neural_network as nn\n",
    "from uninaannpy import error_functions as ef\n",
    "from uninaannpy import activation_functions as af\n",
    "from uninaannpy import datasets as ds\n",
    "from uninaannpy import utility as ut\n",
    "\n",
    "import numpy as np\n",
    "import pandas as pd\n",
    "\n",
    "#Lettura csv con pandas\n",
    "train_data = pd.read_csv('data/mnist_train.csv')\n",
    "test_data = pd.read_csv('data/mnist_test.csv')\n",
    "\n",
    "#Ottenimento array per il training e il testing\n",
    "train_array = np.array(train_data)\n",
    "test_array = np.array(test_data)\n",
    "\n",
    "#Estrapoliamo il numero di righe e di colonne di train e test\n",
    "train_rows, train_cols = train_array.shape \n",
    "test_rows, test_cols = test_array.shape  \n",
    "\n",
    "#Mescola casualmente i dati prima di suddividerli in set di sviluppo e training\n",
    "np.random.shuffle(train_array)  \n",
    "#Calcolo percentuale dati per il validation set\n",
    "validation_percentage = 0.20\n",
    "val_index = int(np.ceil(train_rows * validation_percentage))\n",
    "\n",
    "#Distribuzione training, validation e test set\n",
    "train_in, train_labels = ds.get_mnist_training(train_array, train_rows, train_cols, val_index)\n",
    "validation_in, validation_labels = ds.get_mnist_validation(train_array, train_cols, val_index)\n",
    "test_in, test_labels = ds.get_mnist_testing(test_array, test_cols, test_rows)\n",
    "\n",
    "#Creazione rete neurale\n",
    "#Assegnazione funzioni di attivazione per ogni strato della rete\n",
    "hidden_activation_functions = [af.tanh]\n",
    "\n",
    "#Assegnazione numero di neuroni per ogni strato\n",
    "hidden_layers = [100]\n",
    "#Assegnazione della funzione di attivazione e di errore per l'ultimo strato della rete\n",
    "output_activation_function = af.identity\n",
    "error_function = ef.cross_entropy_softmax\n",
    "\n",
    "#Estrazione input e target\n",
    "input_layer_size = train_in.shape[0]\n",
    "output_layer_size = train_labels.shape[0]\n",
    "net = nn.NeuralNetwork(hidden_activation_functions, output_activation_function, error_function,\n",
    "                input_layer_size, hidden_layers, output_layer_size)\n",
    "\n",
    "#Copia la rete principale in quattro per il training\n",
    "std_training_net = net.duplicate_network()\n",
    "plus_training_net = net.duplicate_network()\n",
    "istd_training_net = net.duplicate_network()\n",
    "iplus_training_net = net.duplicate_network()\n",
    "\n",
    "std_training_net.get_net_structure()"
   ],
   "metadata": {
    "ExecuteTime": {
     "end_time": "2024-03-11T16:19:38.796250Z",
     "start_time": "2024-03-11T16:19:36.218950Z"
    }
   },
   "execution_count": 18
  },
  {
   "cell_type": "code",
   "execution_count": 19,
   "metadata": {
    "collapsed": false,
    "ExecuteTime": {
     "end_time": "2024-03-11T16:20:09.455814Z",
     "start_time": "2024-03-11T16:19:38.798064Z"
    }
   },
   "outputs": [
    {
     "name": "stdout",
     "output_type": "stream",
     "text": [
      "\n",
      "Epoca: 0/40    rProp utilizzata: RPropType.STANDARD\n",
      "    Training Accuracy: 12.58568%,\n",
      "    Validation Accuracy: 12.72606%\n",
      "\n",
      "Epoca: 1/40   rProp utilizzata: RPropType.STANDARD\n",
      "    Training Accuracy: 26.51097%,\n",
      "    Validation Accuracy: 26.43554%\n",
      "\n",
      "Epoca: 2/40   rProp utilizzata: RPropType.STANDARD\n",
      "    Training Accuracy: 52.99277%,\n",
      "    Validation Accuracy: 53.69614%\n",
      "\n",
      "Epoca: 3/40   rProp utilizzata: RPropType.STANDARD\n",
      "    Training Accuracy: 30.12563%,\n",
      "    Validation Accuracy: 29.29411%\n",
      "\n",
      "Epoca: 4/40   rProp utilizzata: RPropType.STANDARD\n",
      "    Training Accuracy: 43.02173%,\n",
      "    Validation Accuracy: 42.86191%\n",
      "\n",
      "Epoca: 5/40   rProp utilizzata: RPropType.STANDARD\n",
      "    Training Accuracy: 52.66776%,\n",
      "    Validation Accuracy: 53.1711%\n",
      "\n",
      "Epoca: 6/40   rProp utilizzata: RPropType.STANDARD\n",
      "    Training Accuracy: 64.47218%,\n",
      "    Validation Accuracy: 63.78865%\n",
      "\n",
      "Epoca: 7/40   rProp utilizzata: RPropType.STANDARD\n",
      "    Training Accuracy: 73.95779%,\n",
      "    Validation Accuracy: 74.14785%\n",
      "\n",
      "Epoca: 8/40   rProp utilizzata: RPropType.STANDARD\n",
      "    Training Accuracy: 82.39755%,\n",
      "    Validation Accuracy: 82.26519%\n",
      "\n",
      "Epoca: 9/40   rProp utilizzata: RPropType.STANDARD\n",
      "    Training Accuracy: 85.41011%,\n",
      "    Validation Accuracy: 84.83207%\n",
      "\n",
      "Epoca: 10/40   rProp utilizzata: RPropType.STANDARD\n",
      "    Training Accuracy: 86.44138%,\n",
      "    Validation Accuracy: 86.28219%\n",
      "\n",
      "Epoca: 11/40   rProp utilizzata: RPropType.STANDARD\n",
      "    Training Accuracy: 90.13313%,\n",
      "    Validation Accuracy: 89.55746%\n",
      "\n",
      "Epoca: 12/40   rProp utilizzata: RPropType.STANDARD\n",
      "    Training Accuracy: 90.84981%,\n",
      "    Validation Accuracy: 90.11584%\n",
      "\n",
      "Epoca: 13/40   rProp utilizzata: RPropType.STANDARD\n",
      "    Training Accuracy: 91.779%,\n",
      "    Validation Accuracy: 91.06592%\n",
      "\n",
      "Epoca: 14/40   rProp utilizzata: RPropType.STANDARD\n",
      "    Training Accuracy: 92.18734%,\n",
      "    Validation Accuracy: 91.38262%\n",
      "\n",
      "Epoca: 15/40   rProp utilizzata: RPropType.STANDARD\n",
      "    Training Accuracy: 92.75193%,\n",
      "    Validation Accuracy: 91.91599%\n",
      "\n",
      "Epoca: 16/40   rProp utilizzata: RPropType.STANDARD\n",
      "    Training Accuracy: 93.25403%,\n",
      "    Validation Accuracy: 92.27436%\n",
      "\n",
      "Epoca: 17/40   rProp utilizzata: RPropType.STANDARD\n",
      "    Training Accuracy: 93.74154%,\n",
      "    Validation Accuracy: 92.73273%\n",
      "\n",
      "Epoca: 18/40   rProp utilizzata: RPropType.STANDARD\n",
      "    Training Accuracy: 94.16863%,\n",
      "    Validation Accuracy: 93.02442%\n",
      "\n",
      "Epoca: 19/40   rProp utilizzata: RPropType.STANDARD\n",
      "    Training Accuracy: 94.57072%,\n",
      "    Validation Accuracy: 93.36611%\n",
      "\n",
      "Epoca: 20/40   rProp utilizzata: RPropType.STANDARD\n",
      "    Training Accuracy: 94.90823%,\n",
      "    Validation Accuracy: 93.64114%\n",
      "\n",
      "Epoca: 21/40   rProp utilizzata: RPropType.STANDARD\n",
      "    Training Accuracy: 95.1624%,\n",
      "    Validation Accuracy: 93.68281%\n",
      "\n",
      "Epoca: 22/40   rProp utilizzata: RPropType.STANDARD\n",
      "    Training Accuracy: 95.44991%,\n",
      "    Validation Accuracy: 93.93283%\n",
      "\n",
      "Epoca: 23/40   rProp utilizzata: RPropType.STANDARD\n",
      "    Training Accuracy: 95.65616%,\n",
      "    Validation Accuracy: 93.9745%\n",
      "\n",
      "Epoca: 24/40   rProp utilizzata: RPropType.STANDARD\n",
      "    Training Accuracy: 95.87075%,\n",
      "    Validation Accuracy: 94.16618%\n",
      "\n",
      "Epoca: 25/40   rProp utilizzata: RPropType.STANDARD\n",
      "    Training Accuracy: 96.13325%,\n",
      "    Validation Accuracy: 94.35786%\n",
      "\n",
      "Epoca: 26/40   rProp utilizzata: RPropType.STANDARD\n",
      "    Training Accuracy: 96.34784%,\n",
      "    Validation Accuracy: 94.4412%\n",
      "\n",
      "Epoca: 27/40   rProp utilizzata: RPropType.STANDARD\n",
      "    Training Accuracy: 96.57076%,\n",
      "    Validation Accuracy: 94.70789%\n",
      "\n",
      "Epoca: 28/40   rProp utilizzata: RPropType.STANDARD\n",
      "    Training Accuracy: 96.71035%,\n",
      "    Validation Accuracy: 94.79123%\n",
      "\n",
      "Epoca: 29/40   rProp utilizzata: RPropType.STANDARD\n",
      "    Training Accuracy: 96.88327%,\n",
      "    Validation Accuracy: 94.84124%\n",
      "\n",
      "Epoca: 30/40   rProp utilizzata: RPropType.STANDARD\n",
      "    Training Accuracy: 97.06452%,\n",
      "    Validation Accuracy: 94.89957%\n",
      "\n",
      "Epoca: 31/40   rProp utilizzata: RPropType.STANDARD\n",
      "    Training Accuracy: 97.16661%,\n",
      "    Validation Accuracy: 95.00792%\n",
      "\n",
      "Epoca: 32/40   rProp utilizzata: RPropType.STANDARD\n",
      "    Training Accuracy: 97.27078%,\n",
      "    Validation Accuracy: 95.01625%\n",
      "\n",
      "Epoca: 33/40   rProp utilizzata: RPropType.STANDARD\n",
      "    Training Accuracy: 97.40411%,\n",
      "    Validation Accuracy: 95.07459%\n",
      "\n",
      "Epoca: 34/40   rProp utilizzata: RPropType.STANDARD\n",
      "    Training Accuracy: 97.56245%,\n",
      "    Validation Accuracy: 95.04959%\n",
      "\n",
      "Epoca: 35/40   rProp utilizzata: RPropType.STANDARD\n",
      "    Training Accuracy: 97.64578%,\n",
      "    Validation Accuracy: 95.04959%\n",
      "\n",
      "Epoca: 36/40   rProp utilizzata: RPropType.STANDARD\n",
      "    Training Accuracy: 97.77287%,\n",
      "    Validation Accuracy: 95.14126%\n",
      "\n",
      "Epoca: 37/40   rProp utilizzata: RPropType.STANDARD\n",
      "    Training Accuracy: 97.85412%,\n",
      "    Validation Accuracy: 95.08292%\n",
      "\n",
      "Epoca: 38/40   rProp utilizzata: RPropType.STANDARD\n",
      "    Training Accuracy: 97.96246%,\n",
      "    Validation Accuracy: 95.14126%\n",
      "\n",
      "Epoca: 39/40   rProp utilizzata: RPropType.STANDARD\n",
      "    Training Accuracy: 98.02913%,\n",
      "    Validation Accuracy: 95.15793%\n",
      "\n",
      "Epoca: 40/40   rProp utilizzata: RPropType.STANDARD\n",
      "    Training Accuracy: 98.14579%,\n",
      "    Validation Accuracy: 95.1996%\n"
     ]
    }
   ],
   "source": [
    "from uninaannpy.neural_network import RPropType\n",
    "\n",
    "# Batch training rProp standard\n",
    "std_train_err, std_validation_err, std_train_accuracy, std_validation_accuracy = std_training_net.train_neural_network(train_in, train_labels, validation_in, validation_labels, epochs=40, learning_rate=0.00001, rprop_type=RPropType.STANDARD)"
   ]
  },
  {
   "cell_type": "code",
   "outputs": [
    {
     "name": "stdout",
     "output_type": "stream",
     "text": [
      "\n",
      "Epoca: 0/40    rProp utilizzata: RPropType.RPROP_PLUS\n",
      "    Training Accuracy: 12.58568%,\n",
      "    Validation Accuracy: 12.72606%\n",
      "\n",
      "Epoca: 1/40   rProp utilizzata: RPropType.RPROP_PLUS\n",
      "    Training Accuracy: 26.51097%,\n",
      "    Validation Accuracy: 26.43554%\n",
      "\n",
      "Epoca: 2/40   rProp utilizzata: RPropType.RPROP_PLUS\n",
      "    Training Accuracy: 37.47786%,\n",
      "    Validation Accuracy: 37.68647%\n",
      "\n",
      "Epoca: 3/40   rProp utilizzata: RPropType.RPROP_PLUS\n",
      "    Training Accuracy: 36.27992%,\n",
      "    Validation Accuracy: 35.81132%\n",
      "\n",
      "Epoca: 4/40   rProp utilizzata: RPropType.RPROP_PLUS\n",
      "    Training Accuracy: 33.10902%,\n",
      "    Validation Accuracy: 33.07776%\n",
      "\n",
      "Epoca: 5/40   rProp utilizzata: RPropType.RPROP_PLUS\n",
      "    Training Accuracy: 42.05296%,\n",
      "    Validation Accuracy: 42.46187%\n",
      "\n",
      "Epoca: 6/40   rProp utilizzata: RPropType.RPROP_PLUS\n",
      "    Training Accuracy: 45.34261%,\n",
      "    Validation Accuracy: 44.43704%\n",
      "\n",
      "Epoca: 7/40   rProp utilizzata: RPropType.RPROP_PLUS\n",
      "    Training Accuracy: 64.34092%,\n",
      "    Validation Accuracy: 64.66372%\n",
      "\n",
      "Epoca: 8/40   rProp utilizzata: RPropType.RPROP_PLUS\n",
      "    Training Accuracy: 56.27409%,\n",
      "    Validation Accuracy: 55.89632%\n",
      "\n",
      "Epoca: 9/40   rProp utilizzata: RPropType.RPROP_PLUS\n",
      "    Training Accuracy: 74.89114%,\n",
      "    Validation Accuracy: 75.61463%\n",
      "\n",
      "Epoca: 10/40   rProp utilizzata: RPropType.RPROP_PLUS\n",
      "    Training Accuracy: 76.49326%,\n",
      "    Validation Accuracy: 76.34803%\n",
      "\n",
      "Epoca: 11/40   rProp utilizzata: RPropType.RPROP_PLUS\n",
      "    Training Accuracy: 80.34751%,\n",
      "    Validation Accuracy: 80.60672%\n",
      "\n",
      "Epoca: 12/40   rProp utilizzata: RPropType.RPROP_PLUS\n",
      "    Training Accuracy: 85.87054%,\n",
      "    Validation Accuracy: 85.30711%\n",
      "\n",
      "Epoca: 13/40   rProp utilizzata: RPropType.RPROP_PLUS\n",
      "    Training Accuracy: 85.71845%,\n",
      "    Validation Accuracy: 85.04042%\n",
      "\n",
      "Epoca: 14/40   rProp utilizzata: RPropType.RPROP_PLUS\n",
      "    Training Accuracy: 89.74354%,\n",
      "    Validation Accuracy: 88.72406%\n",
      "\n",
      "Epoca: 15/40   rProp utilizzata: RPropType.RPROP_PLUS\n",
      "    Training Accuracy: 90.03938%,\n",
      "    Validation Accuracy: 89.40745%\n",
      "\n",
      "Epoca: 16/40   rProp utilizzata: RPropType.RPROP_PLUS\n",
      "    Training Accuracy: 91.33732%,\n",
      "    Validation Accuracy: 90.33253%\n",
      "\n",
      "Epoca: 17/40   rProp utilizzata: RPropType.RPROP_PLUS\n",
      "    Training Accuracy: 91.86858%,\n",
      "    Validation Accuracy: 90.95758%\n",
      "\n",
      "Epoca: 18/40   rProp utilizzata: RPropType.RPROP_PLUS\n",
      "    Training Accuracy: 92.49359%,\n",
      "    Validation Accuracy: 91.2576%\n",
      "\n",
      "Epoca: 19/40   rProp utilizzata: RPropType.RPROP_PLUS\n",
      "    Training Accuracy: 92.95819%,\n",
      "    Validation Accuracy: 91.86599%\n",
      "\n",
      "Epoca: 20/40   rProp utilizzata: RPropType.RPROP_PLUS\n",
      "    Training Accuracy: 93.46653%,\n",
      "    Validation Accuracy: 92.17435%\n",
      "\n",
      "Epoca: 21/40   rProp utilizzata: RPropType.RPROP_PLUS\n",
      "    Training Accuracy: 93.91654%,\n",
      "    Validation Accuracy: 92.59938%\n",
      "\n",
      "Epoca: 22/40   rProp utilizzata: RPropType.RPROP_PLUS\n",
      "    Training Accuracy: 94.23946%,\n",
      "    Validation Accuracy: 92.78273%\n",
      "\n",
      "Epoca: 23/40   rProp utilizzata: RPropType.RPROP_PLUS\n",
      "    Training Accuracy: 94.61447%,\n",
      "    Validation Accuracy: 93.03275%\n",
      "\n",
      "Epoca: 24/40   rProp utilizzata: RPropType.RPROP_PLUS\n",
      "    Training Accuracy: 94.84156%,\n",
      "    Validation Accuracy: 93.06609%\n",
      "\n",
      "Epoca: 25/40   rProp utilizzata: RPropType.RPROP_PLUS\n",
      "    Training Accuracy: 95.1249%,\n",
      "    Validation Accuracy: 93.18277%\n",
      "\n",
      "Epoca: 26/40   rProp utilizzata: RPropType.RPROP_PLUS\n",
      "    Training Accuracy: 95.33115%,\n",
      "    Validation Accuracy: 93.64114%\n",
      "\n",
      "Epoca: 27/40   rProp utilizzata: RPropType.RPROP_PLUS\n",
      "    Training Accuracy: 95.56657%,\n",
      "    Validation Accuracy: 93.61613%\n",
      "\n",
      "Epoca: 28/40   rProp utilizzata: RPropType.RPROP_PLUS\n",
      "    Training Accuracy: 95.55824%,\n",
      "    Validation Accuracy: 93.70781%\n",
      "\n",
      "Epoca: 29/40   rProp utilizzata: RPropType.RPROP_PLUS\n",
      "    Training Accuracy: 95.87491%,\n",
      "    Validation Accuracy: 93.96616%\n",
      "\n",
      "Epoca: 30/40   rProp utilizzata: RPropType.RPROP_PLUS\n",
      "    Training Accuracy: 95.98533%,\n",
      "    Validation Accuracy: 94.03284%\n",
      "\n",
      "Epoca: 31/40   rProp utilizzata: RPropType.RPROP_PLUS\n",
      "    Training Accuracy: 96.17909%,\n",
      "    Validation Accuracy: 94.26619%\n",
      "\n",
      "Epoca: 32/40   rProp utilizzata: RPropType.RPROP_PLUS\n",
      "    Training Accuracy: 96.38117%,\n",
      "    Validation Accuracy: 94.29952%\n",
      "\n",
      "Epoca: 33/40   rProp utilizzata: RPropType.RPROP_PLUS\n",
      "    Training Accuracy: 96.57701%,\n",
      "    Validation Accuracy: 94.48287%\n",
      "\n",
      "Epoca: 34/40   rProp utilizzata: RPropType.RPROP_PLUS\n",
      "    Training Accuracy: 96.74577%,\n",
      "    Validation Accuracy: 94.60788%\n",
      "\n",
      "Epoca: 35/40   rProp utilizzata: RPropType.RPROP_PLUS\n",
      "    Training Accuracy: 96.84368%,\n",
      "    Validation Accuracy: 94.74956%\n",
      "\n",
      "Epoca: 36/40   rProp utilizzata: RPropType.RPROP_PLUS\n",
      "    Training Accuracy: 96.9541%,\n",
      "    Validation Accuracy: 94.71623%\n",
      "\n",
      "Epoca: 37/40   rProp utilizzata: RPropType.RPROP_PLUS\n",
      "    Training Accuracy: 97.05619%,\n",
      "    Validation Accuracy: 94.8079%\n",
      "\n",
      "Epoca: 38/40   rProp utilizzata: RPropType.RPROP_PLUS\n",
      "    Training Accuracy: 97.15411%,\n",
      "    Validation Accuracy: 94.84957%\n",
      "\n",
      "Epoca: 39/40   rProp utilizzata: RPropType.RPROP_PLUS\n",
      "    Training Accuracy: 97.25619%,\n",
      "    Validation Accuracy: 94.89124%\n",
      "\n",
      "Epoca: 40/40   rProp utilizzata: RPropType.RPROP_PLUS\n",
      "    Training Accuracy: 97.34994%,\n",
      "    Validation Accuracy: 94.98292%\n"
     ]
    }
   ],
   "source": [
    "from uninaannpy.neural_network import RPropType\n",
    "\n",
    "# Batch training rProp con weight-backtracking\n",
    "plus_train_err, plus_validation_err, plus_train_accuracy, plus_validation_accuracy = plus_training_net.train_neural_network(train_in, train_labels, validation_in, validation_labels, epochs=40, learning_rate=0.00001, rprop_type=RPropType.RPROP_PLUS)"
   ],
   "metadata": {
    "collapsed": false,
    "ExecuteTime": {
     "end_time": "2024-03-11T16:20:41.200099Z",
     "start_time": "2024-03-11T16:20:09.460144Z"
    }
   },
   "execution_count": 20
  },
  {
   "cell_type": "code",
   "outputs": [
    {
     "name": "stdout",
     "output_type": "stream",
     "text": [
      "\n",
      "Epoca: 0/40    rProp utilizzata: RPropType.IRPROP\n",
      "    Training Accuracy: 12.58568%,\n",
      "    Validation Accuracy: 12.72606%\n",
      "\n",
      "Epoca: 1/40   rProp utilizzata: RPropType.IRPROP\n",
      "    Training Accuracy: 26.51097%,\n",
      "    Validation Accuracy: 26.43554%\n",
      "\n",
      "Epoca: 2/40   rProp utilizzata: RPropType.IRPROP\n",
      "    Training Accuracy: 52.99277%,\n",
      "    Validation Accuracy: 53.69614%\n",
      "\n",
      "Epoca: 3/40   rProp utilizzata: RPropType.IRPROP\n",
      "    Training Accuracy: 32.9736%,\n",
      "    Validation Accuracy: 31.76098%\n",
      "\n",
      "Epoca: 4/40   rProp utilizzata: RPropType.IRPROP\n",
      "    Training Accuracy: 39.57582%,\n",
      "    Validation Accuracy: 39.98667%\n",
      "\n",
      "Epoca: 5/40   rProp utilizzata: RPropType.IRPROP\n",
      "    Training Accuracy: 51.45732%,\n",
      "    Validation Accuracy: 51.95433%\n",
      "\n",
      "Epoca: 6/40   rProp utilizzata: RPropType.IRPROP\n",
      "    Training Accuracy: 55.10948%,\n",
      "    Validation Accuracy: 54.32953%\n",
      "\n",
      "Epoca: 7/40   rProp utilizzata: RPropType.IRPROP\n",
      "    Training Accuracy: 59.89916%,\n",
      "    Validation Accuracy: 59.92999%\n",
      "\n",
      "Epoca: 8/40   rProp utilizzata: RPropType.IRPROP\n",
      "    Training Accuracy: 67.99725%,\n",
      "    Validation Accuracy: 67.90566%\n",
      "\n",
      "Epoca: 9/40   rProp utilizzata: RPropType.IRPROP\n",
      "    Training Accuracy: 80.7996%,\n",
      "    Validation Accuracy: 80.015%\n",
      "\n",
      "Epoca: 10/40   rProp utilizzata: RPropType.IRPROP\n",
      "    Training Accuracy: 80.60168%,\n",
      "    Validation Accuracy: 80.4067%\n",
      "\n",
      "Epoca: 11/40   rProp utilizzata: RPropType.IRPROP\n",
      "    Training Accuracy: 86.22055%,\n",
      "    Validation Accuracy: 85.32378%\n",
      "\n",
      "Epoca: 12/40   rProp utilizzata: RPropType.IRPROP\n",
      "    Training Accuracy: 87.79975%,\n",
      "    Validation Accuracy: 87.54063%\n",
      "\n",
      "Epoca: 13/40   rProp utilizzata: RPropType.IRPROP\n",
      "    Training Accuracy: 89.94354%,\n",
      "    Validation Accuracy: 89.1741%\n",
      "\n",
      "Epoca: 14/40   rProp utilizzata: RPropType.IRPROP\n",
      "    Training Accuracy: 90.81231%,\n",
      "    Validation Accuracy: 90.4492%\n",
      "\n",
      "Epoca: 15/40   rProp utilizzata: RPropType.IRPROP\n",
      "    Training Accuracy: 91.71649%,\n",
      "    Validation Accuracy: 90.64089%\n",
      "\n",
      "Epoca: 16/40   rProp utilizzata: RPropType.IRPROP\n",
      "    Training Accuracy: 92.42484%,\n",
      "    Validation Accuracy: 91.37428%\n",
      "\n",
      "Epoca: 17/40   rProp utilizzata: RPropType.IRPROP\n",
      "    Training Accuracy: 93.03944%,\n",
      "    Validation Accuracy: 91.79098%\n",
      "\n",
      "Epoca: 18/40   rProp utilizzata: RPropType.IRPROP\n",
      "    Training Accuracy: 93.61445%,\n",
      "    Validation Accuracy: 92.41603%\n",
      "\n",
      "Epoca: 19/40   rProp utilizzata: RPropType.IRPROP\n",
      "    Training Accuracy: 94.04571%,\n",
      "    Validation Accuracy: 92.71606%\n",
      "\n",
      "Epoca: 20/40   rProp utilizzata: RPropType.IRPROP\n",
      "    Training Accuracy: 94.43738%,\n",
      "    Validation Accuracy: 93.15776%\n",
      "\n",
      "Epoca: 21/40   rProp utilizzata: RPropType.IRPROP\n",
      "    Training Accuracy: 94.76031%,\n",
      "    Validation Accuracy: 93.25777%\n",
      "\n",
      "Epoca: 22/40   rProp utilizzata: RPropType.IRPROP\n",
      "    Training Accuracy: 95.02906%,\n",
      "    Validation Accuracy: 93.44945%\n",
      "\n",
      "Epoca: 23/40   rProp utilizzata: RPropType.IRPROP\n",
      "    Training Accuracy: 95.27698%,\n",
      "    Validation Accuracy: 93.74115%\n",
      "\n",
      "Epoca: 24/40   rProp utilizzata: RPropType.IRPROP\n",
      "    Training Accuracy: 95.53116%,\n",
      "    Validation Accuracy: 93.82449%\n",
      "\n",
      "Epoca: 25/40   rProp utilizzata: RPropType.IRPROP\n",
      "    Training Accuracy: 95.82283%,\n",
      "    Validation Accuracy: 93.95783%\n",
      "\n",
      "Epoca: 26/40   rProp utilizzata: RPropType.IRPROP\n",
      "    Training Accuracy: 96.02075%,\n",
      "    Validation Accuracy: 94.09117%\n",
      "\n",
      "Epoca: 27/40   rProp utilizzata: RPropType.IRPROP\n",
      "    Training Accuracy: 96.26242%,\n",
      "    Validation Accuracy: 94.26619%\n",
      "\n",
      "Epoca: 28/40   rProp utilizzata: RPropType.IRPROP\n",
      "    Training Accuracy: 96.48326%,\n",
      "    Validation Accuracy: 94.24952%\n",
      "\n",
      "Epoca: 29/40   rProp utilizzata: RPropType.IRPROP\n",
      "    Training Accuracy: 96.68118%,\n",
      "    Validation Accuracy: 94.54121%\n",
      "\n",
      "Epoca: 30/40   rProp utilizzata: RPropType.IRPROP\n",
      "    Training Accuracy: 96.8541%,\n",
      "    Validation Accuracy: 94.57455%\n",
      "\n",
      "Epoca: 31/40   rProp utilizzata: RPropType.IRPROP\n",
      "    Training Accuracy: 97.06036%,\n",
      "    Validation Accuracy: 94.79957%\n",
      "\n",
      "Epoca: 32/40   rProp utilizzata: RPropType.IRPROP\n",
      "    Training Accuracy: 97.14786%,\n",
      "    Validation Accuracy: 94.8329%\n",
      "\n",
      "Epoca: 33/40   rProp utilizzata: RPropType.IRPROP\n",
      "    Training Accuracy: 97.33744%,\n",
      "    Validation Accuracy: 94.93291%\n",
      "\n",
      "Epoca: 34/40   rProp utilizzata: RPropType.IRPROP\n",
      "    Training Accuracy: 97.42286%,\n",
      "    Validation Accuracy: 94.94125%\n",
      "\n",
      "Epoca: 35/40   rProp utilizzata: RPropType.IRPROP\n",
      "    Training Accuracy: 97.58953%,\n",
      "    Validation Accuracy: 95.03292%\n",
      "\n",
      "Epoca: 36/40   rProp utilizzata: RPropType.IRPROP\n",
      "    Training Accuracy: 97.71037%,\n",
      "    Validation Accuracy: 95.00792%\n",
      "\n",
      "Epoca: 37/40   rProp utilizzata: RPropType.IRPROP\n",
      "    Training Accuracy: 97.82495%,\n",
      "    Validation Accuracy: 95.11626%\n",
      "\n",
      "Epoca: 38/40   rProp utilizzata: RPropType.IRPROP\n",
      "    Training Accuracy: 97.93329%,\n",
      "    Validation Accuracy: 95.12459%\n",
      "\n",
      "Epoca: 39/40   rProp utilizzata: RPropType.IRPROP\n",
      "    Training Accuracy: 98.03538%,\n",
      "    Validation Accuracy: 95.09959%\n",
      "\n",
      "Epoca: 40/40   rProp utilizzata: RPropType.IRPROP\n",
      "    Training Accuracy: 98.12704%,\n",
      "    Validation Accuracy: 95.18293%\n"
     ]
    }
   ],
   "source": [
    "from uninaannpy.neural_network import RPropType\n",
    "\n",
    "# Batch training improved rProp con weight-backtracking\n",
    "istd_train_err, istd_validation_err, istd_train_accuracy, istd_validation_accuracy = istd_training_net.train_neural_network(train_in, train_labels, validation_in, validation_labels, epochs=40, learning_rate=0.00001, rprop_type=RPropType.IRPROP)"
   ],
   "metadata": {
    "collapsed": false,
    "ExecuteTime": {
     "end_time": "2024-03-11T16:21:16.007387Z",
     "start_time": "2024-03-11T16:20:41.219756Z"
    }
   },
   "execution_count": 21
  },
  {
   "cell_type": "code",
   "outputs": [
    {
     "name": "stdout",
     "output_type": "stream",
     "text": [
      "\n",
      "Epoca: 0/40    rProp utilizzata: RPropType.IRPROP_PLUS\n",
      "    Training Accuracy: 12.58568%,\n",
      "    Validation Accuracy: 12.72606%\n",
      "\n",
      "Epoca: 1/40   rProp utilizzata: RPropType.IRPROP_PLUS\n",
      "    Training Accuracy: 26.51097%,\n",
      "    Validation Accuracy: 26.43554%\n",
      "\n",
      "Epoca: 2/40   rProp utilizzata: RPropType.IRPROP_PLUS\n",
      "    Training Accuracy: 62.84506%,\n",
      "    Validation Accuracy: 62.93024%\n",
      "\n",
      "Epoca: 3/40   rProp utilizzata: RPropType.IRPROP_PLUS\n",
      "    Training Accuracy: 35.68408%,\n",
      "    Validation Accuracy: 35.5613%\n",
      "\n",
      "Epoca: 4/40   rProp utilizzata: RPropType.IRPROP_PLUS\n",
      "    Training Accuracy: 49.89896%,\n",
      "    Validation Accuracy: 50.43754%\n",
      "\n",
      "Epoca: 5/40   rProp utilizzata: RPropType.IRPROP_PLUS\n",
      "    Training Accuracy: 33.30694%,\n",
      "    Validation Accuracy: 32.58605%\n",
      "\n",
      "Epoca: 6/40   rProp utilizzata: RPropType.IRPROP_PLUS\n",
      "    Training Accuracy: 56.26159%,\n",
      "    Validation Accuracy: 56.44637%\n",
      "\n",
      "Epoca: 7/40   rProp utilizzata: RPropType.IRPROP_PLUS\n",
      "    Training Accuracy: 58.29288%,\n",
      "    Validation Accuracy: 58.21318%\n",
      "\n",
      "Epoca: 8/40   rProp utilizzata: RPropType.IRPROP_PLUS\n",
      "    Training Accuracy: 81.17669%,\n",
      "    Validation Accuracy: 81.20677%\n",
      "\n",
      "Epoca: 9/40   rProp utilizzata: RPropType.IRPROP_PLUS\n",
      "    Training Accuracy: 73.59737%,\n",
      "    Validation Accuracy: 73.16443%\n",
      "\n",
      "Epoca: 10/40   rProp utilizzata: RPropType.IRPROP_PLUS\n",
      "    Training Accuracy: 78.78081%,\n",
      "    Validation Accuracy: 78.29819%\n",
      "\n",
      "Epoca: 11/40   rProp utilizzata: RPropType.IRPROP_PLUS\n",
      "    Training Accuracy: 87.26432%,\n",
      "    Validation Accuracy: 86.65722%\n",
      "\n",
      "Epoca: 12/40   rProp utilizzata: RPropType.IRPROP_PLUS\n",
      "    Training Accuracy: 86.11429%,\n",
      "    Validation Accuracy: 85.85715%\n",
      "\n",
      "Epoca: 13/40   rProp utilizzata: RPropType.IRPROP_PLUS\n",
      "    Training Accuracy: 87.27473%,\n",
      "    Validation Accuracy: 86.57388%\n",
      "\n",
      "Epoca: 14/40   rProp utilizzata: RPropType.IRPROP_PLUS\n",
      "    Training Accuracy: 89.99562%,\n",
      "    Validation Accuracy: 89.24077%\n",
      "\n",
      "Epoca: 15/40   rProp utilizzata: RPropType.IRPROP_PLUS\n",
      "    Training Accuracy: 90.34147%,\n",
      "    Validation Accuracy: 89.93249%\n",
      "\n",
      "Epoca: 16/40   rProp utilizzata: RPropType.IRPROP_PLUS\n",
      "    Training Accuracy: 91.48524%,\n",
      "    Validation Accuracy: 90.77423%\n",
      "\n",
      "Epoca: 17/40   rProp utilizzata: RPropType.IRPROP_PLUS\n",
      "    Training Accuracy: 92.22067%,\n",
      "    Validation Accuracy: 91.21593%\n",
      "\n",
      "Epoca: 18/40   rProp utilizzata: RPropType.IRPROP_PLUS\n",
      "    Training Accuracy: 92.61443%,\n",
      "    Validation Accuracy: 91.37428%\n",
      "\n",
      "Epoca: 19/40   rProp utilizzata: RPropType.IRPROP_PLUS\n",
      "    Training Accuracy: 93.23944%,\n",
      "    Validation Accuracy: 92.05767%\n",
      "\n",
      "Epoca: 20/40   rProp utilizzata: RPropType.IRPROP_PLUS\n",
      "    Training Accuracy: 93.82904%,\n",
      "    Validation Accuracy: 92.42437%\n",
      "\n",
      "Epoca: 21/40   rProp utilizzata: RPropType.IRPROP_PLUS\n",
      "    Training Accuracy: 94.25405%,\n",
      "    Validation Accuracy: 92.64105%\n",
      "\n",
      "Epoca: 22/40   rProp utilizzata: RPropType.IRPROP_PLUS\n",
      "    Training Accuracy: 94.57489%,\n",
      "    Validation Accuracy: 92.96608%\n",
      "\n",
      "Epoca: 23/40   rProp utilizzata: RPropType.IRPROP_PLUS\n",
      "    Training Accuracy: 95.04156%,\n",
      "    Validation Accuracy: 93.2161%\n",
      "\n",
      "Epoca: 24/40   rProp utilizzata: RPropType.IRPROP_PLUS\n",
      "    Training Accuracy: 95.46449%,\n",
      "    Validation Accuracy: 93.57446%\n",
      "\n",
      "Epoca: 25/40   rProp utilizzata: RPropType.IRPROP_PLUS\n",
      "    Training Accuracy: 95.75616%,\n",
      "    Validation Accuracy: 93.84949%\n",
      "\n",
      "Epoca: 26/40   rProp utilizzata: RPropType.IRPROP_PLUS\n",
      "    Training Accuracy: 96.0645%,\n",
      "    Validation Accuracy: 93.89949%\n",
      "\n",
      "Epoca: 27/40   rProp utilizzata: RPropType.IRPROP_PLUS\n",
      "    Training Accuracy: 96.29992%,\n",
      "    Validation Accuracy: 94.13284%\n",
      "\n",
      "Epoca: 28/40   rProp utilizzata: RPropType.IRPROP_PLUS\n",
      "    Training Accuracy: 96.49159%,\n",
      "    Validation Accuracy: 94.05784%\n",
      "\n",
      "Epoca: 29/40   rProp utilizzata: RPropType.IRPROP_PLUS\n",
      "    Training Accuracy: 96.77285%,\n",
      "    Validation Accuracy: 94.31619%\n",
      "\n",
      "Epoca: 30/40   rProp utilizzata: RPropType.IRPROP_PLUS\n",
      "    Training Accuracy: 96.97285%,\n",
      "    Validation Accuracy: 94.38287%\n",
      "\n",
      "Epoca: 31/40   rProp utilizzata: RPropType.IRPROP_PLUS\n",
      "    Training Accuracy: 97.11452%,\n",
      "    Validation Accuracy: 94.52454%\n",
      "\n",
      "Epoca: 32/40   rProp utilizzata: RPropType.IRPROP_PLUS\n",
      "    Training Accuracy: 97.30619%,\n",
      "    Validation Accuracy: 94.63289%\n",
      "\n",
      "Epoca: 33/40   rProp utilizzata: RPropType.IRPROP_PLUS\n",
      "    Training Accuracy: 97.49786%,\n",
      "    Validation Accuracy: 94.7829%\n",
      "\n",
      "Epoca: 34/40   rProp utilizzata: RPropType.IRPROP_PLUS\n",
      "    Training Accuracy: 97.7062%,\n",
      "    Validation Accuracy: 94.98292%\n",
      "\n",
      "Epoca: 35/40   rProp utilizzata: RPropType.IRPROP_PLUS\n",
      "    Training Accuracy: 97.85412%,\n",
      "    Validation Accuracy: 95.08292%\n",
      "\n",
      "Epoca: 36/40   rProp utilizzata: RPropType.IRPROP_PLUS\n",
      "    Training Accuracy: 98.01663%,\n",
      "    Validation Accuracy: 95.09959%\n",
      "\n",
      "Epoca: 37/40   rProp utilizzata: RPropType.IRPROP_PLUS\n",
      "    Training Accuracy: 98.08538%,\n",
      "    Validation Accuracy: 95.02459%\n",
      "\n",
      "Epoca: 38/40   rProp utilizzata: RPropType.IRPROP_PLUS\n",
      "    Training Accuracy: 98.26663%,\n",
      "    Validation Accuracy: 95.07459%\n",
      "\n",
      "Epoca: 39/40   rProp utilizzata: RPropType.IRPROP_PLUS\n",
      "    Training Accuracy: 98.37705%,\n",
      "    Validation Accuracy: 95.13293%\n",
      "\n",
      "Epoca: 40/40   rProp utilizzata: RPropType.IRPROP_PLUS\n",
      "    Training Accuracy: 98.49164%,\n",
      "    Validation Accuracy: 95.16626%\n"
     ]
    }
   ],
   "source": [
    "from uninaannpy.neural_network import RPropType\n",
    "\n",
    "# Batch training improved rProp\n",
    "iplus_train_err, iplus_validation_err, iplus_train_accuracy, iplus_validation_accuracy = iplus_training_net.train_neural_network(train_in, train_labels, validation_in, validation_labels, epochs=40, learning_rate=0.00001, rprop_type=RPropType.IRPROP_PLUS)"
   ],
   "metadata": {
    "ExecuteTime": {
     "end_time": "2024-03-11T16:21:49.864748Z",
     "start_time": "2024-03-11T16:21:16.012374Z"
    }
   },
   "execution_count": 22
  },
  {
   "cell_type": "code",
   "execution_count": 23,
   "metadata": {
    "collapsed": false,
    "ExecuteTime": {
     "end_time": "2024-03-11T16:21:50.003889Z",
     "start_time": "2024-03-11T16:21:49.867376Z"
    }
   },
   "outputs": [
    {
     "data": {
      "text/plain": "<Figure size 640x480 with 1 Axes>",
      "image/png": "[encoded data removed]"
     },
     "metadata": {},
     "output_type": "display_data"
    }
   ],
   "source": [
    "from matplotlib import pyplot as plt\n",
    "\n",
    "# Stampa grafico dell'errore del training\n",
    "plt.figure()\n",
    "plt.plot(std_train_err, 'b', label='RPROP-')\n",
    "plt.plot(plus_train_err, 'r', label='RPROP+')\n",
    "plt.plot(istd_train_err, 'y', label='IRPROP-')\n",
    "plt.plot(iplus_train_err, 'g', label='IRPROP+')\n",
    "plt.xlabel('Epoche')\n",
    "plt.ylabel('Errori')\n",
    "plt.legend()\n",
    "plt.show()"
   ]
  },
  {
   "cell_type": "code",
   "outputs": [
    {
     "data": {
      "text/plain": "<Figure size 640x480 with 1 Axes>",
      "image/png": "[encoded data removed]"
     },
     "metadata": {},
     "output_type": "display_data"
    }
   ],
   "source": [
    "from matplotlib import pyplot as plt\n",
    "\n",
    "# Stampa grafico dell'errore del validation\n",
    "plt.figure()\n",
    "plt.plot(std_validation_err, 'b', label='RPROP-')\n",
    "plt.plot(plus_validation_err, 'r', label='RPROP+')\n",
    "plt.plot(istd_validation_err, 'y', label='IRPROP-')\n",
    "plt.plot(iplus_validation_err, 'g', label='IRPROP+')\n",
    "plt.xlabel('Epoche')\n",
    "plt.ylabel('Errori')\n",
    "plt.legend()\n",
    "plt.show()"
   ],
   "metadata": {
    "collapsed": false,
    "ExecuteTime": {
     "end_time": "2024-03-11T16:21:50.123898Z",
     "start_time": "2024-03-11T16:21:50.013009Z"
    }
   },
   "execution_count": 24
  },
  {
   "cell_type": "code",
   "outputs": [
    {
     "data": {
      "text/plain": "<Figure size 640x480 with 1 Axes>",
      "image/png": "[encoded data removed]"
     },
     "metadata": {},
     "output_type": "display_data"
    }
   ],
   "source": [
    "from matplotlib import pyplot as plt\n",
    "\n",
    "# Stampa grafico della precisione del training\n",
    "plt.figure()\n",
    "plt.plot(std_train_accuracy, 'b', label='RPROP-')\n",
    "plt.plot(plus_train_accuracy, 'r', label='RPROP+')\n",
    "plt.plot(istd_train_accuracy, 'y', label='IRPROP-')\n",
    "plt.plot(iplus_train_accuracy, 'g', label='IRPROP+')\n",
    "plt.xlabel('Epoche')\n",
    "plt.ylabel('Precisione')\n",
    "plt.legend()\n",
    "plt.show()"
   ],
   "metadata": {
    "collapsed": false,
    "ExecuteTime": {
     "end_time": "2024-03-11T16:21:50.197465Z",
     "start_time": "2024-03-11T16:21:50.124865Z"
    }
   },
   "execution_count": 25
  },
  {
   "cell_type": "code",
   "outputs": [
    {
     "data": {
      "text/plain": "<Figure size 640x480 with 1 Axes>",
      "image/png": "[encoded data removed]"
     },
     "metadata": {},
     "output_type": "display_data"
    }
   ],
   "source": [
    "from matplotlib import pyplot as plt\n",
    "\n",
    "# Stampa grafico della precisione del validation\n",
    "plt.figure()\n",
    "plt.plot(std_validation_accuracy, 'b', label='RPROP-')\n",
    "plt.plot(plus_validation_accuracy, 'r', label='RPROP+')\n",
    "plt.plot(istd_validation_accuracy, 'y', label='IRPROP-')\n",
    "plt.plot(iplus_validation_accuracy, 'g', label='IRPROP+')\n",
    "plt.xlabel('Epoche')\n",
    "plt.ylabel('Precisione')\n",
    "plt.legend()\n",
    "plt.show()"
   ],
   "metadata": {
    "ExecuteTime": {
     "end_time": "2024-03-11T16:21:50.260887Z",
     "start_time": "2024-03-11T16:21:50.198366Z"
    }
   },
   "execution_count": 26
  },
  {
   "cell_type": "code",
   "execution_count": 27,
   "metadata": {
    "collapsed": false,
    "ExecuteTime": {
     "end_time": "2024-03-11T16:21:50.446979Z",
     "start_time": "2024-03-11T16:21:50.263324Z"
    }
   },
   "outputs": [
    {
     "name": "stdout",
     "output_type": "stream",
     "text": [
      "Test RProp-\n",
      "Test accuracy: 94.52229%\n",
      "Train accuracy: 98.14579%\n"
     ]
    }
   ],
   "source": [
    "#Stampa accuracy per training e test set\n",
    "\n",
    "std_training_net.print_accuracies('Test RProp-', test_in, test_labels, train_in, train_labels)"
   ]
  },
  {
   "cell_type": "code",
   "outputs": [
    {
     "name": "stdout",
     "output_type": "stream",
     "text": [
      "Test RProp+\n",
      "Test accuracy: 94.52229%\n",
      "Train accuracy: 97.34994%\n"
     ]
    }
   ],
   "source": [
    "#Stampa accuracy per training e test set\n",
    "\n",
    "plus_training_net.print_accuracies('Test RProp+', test_in, test_labels, train_in, train_labels)"
   ],
   "metadata": {
    "collapsed": false,
    "ExecuteTime": {
     "end_time": "2024-03-11T16:21:50.625283Z",
     "start_time": "2024-03-11T16:21:50.448305Z"
    }
   },
   "execution_count": 28
  },
  {
   "cell_type": "code",
   "outputs": [
    {
     "name": "stdout",
     "output_type": "stream",
     "text": [
      "Test iRProp-\n",
      "Test accuracy: 94.64968%\n",
      "Train accuracy: 98.12704%\n"
     ]
    }
   ],
   "source": [
    "#Stampa accuracy per training e test set\n",
    "\n",
    "istd_training_net.print_accuracies('Test iRProp-', test_in, test_labels, train_in, train_labels)"
   ],
   "metadata": {
    "collapsed": false,
    "ExecuteTime": {
     "end_time": "2024-03-11T16:21:50.833638Z",
     "start_time": "2024-03-11T16:21:50.627284Z"
    }
   },
   "execution_count": 29
  },
  {
   "cell_type": "code",
   "outputs": [
    {
     "name": "stdout",
     "output_type": "stream",
     "text": [
      "Test iRProp+\n",
      "Test accuracy: 95.92357%\n",
      "Train accuracy: 98.49164%\n"
     ]
    }
   ],
   "source": [
    "#Stampa accuracy per training e test set\n",
    "\n",
    "iplus_training_net.print_accuracies('Test iRProp+', test_in, test_labels, train_in, train_labels)"
   ],
   "metadata": {
    "ExecuteTime": {
     "end_time": "2024-03-11T16:21:51.030547Z",
     "start_time": "2024-03-11T16:21:50.839439Z"
    }
   },
   "execution_count": 30
  },
  {
   "cell_type": "code",
   "execution_count": 31,
   "metadata": {
    "collapsed": false,
    "ExecuteTime": {
     "end_time": "2024-03-11T16:21:51.192690Z",
     "start_time": "2024-03-11T16:21:51.039187Z"
    }
   },
   "outputs": [
    {
     "name": "stdout",
     "output_type": "stream",
     "text": [
      "Test rProp-\n",
      "Probabilità predette dalla rete non addestrata:\n",
      "Classe 0: 5.16808%\n",
      "Classe 1: 7.14356%\n",
      "Classe 2: 9.88068%\n",
      "Classe 3: 8.83273%\n",
      "Classe 4: 6.20847%\n",
      "Classe 5: 9.30331%\n",
      "Classe 6: 9.95506%\n",
      "Classe 7: 12.18544%\n",
      "Classe 8: 27.96278%\n",
      "Classe 9: 3.35989%\n",
      "\n",
      "Probabilità predette dalla rete addestrata:\n",
      "Classe 0: 0.08623%\n",
      "Classe 1: 0.00135%\n",
      "Classe 2: 1.21374%\n",
      "Classe 3: 0.00444%\n",
      "Classe 4: 91.19758%\n",
      "Classe 5: 0.03096%\n",
      "Classe 6: 5.84982%\n",
      "Classe 7: 0.04841%\n",
      "Classe 8: 1.55868%\n",
      "Classe 9: 0.0088%\n"
     ]
    },
    {
     "data": {
      "text/plain": "<Figure size 640x480 with 1 Axes>",
      "image/png": "[encoded data removed]"
     },
     "metadata": {},
     "output_type": "display_data"
    }
   ],
   "source": [
    "#Predizione rete senza addestramento e rete addestrata\n",
    "image = 47993\n",
    "\n",
    "print('Test rProp-')\n",
    "ut.test_prediction(net, std_training_net, image, train_in)"
   ]
  },
  {
   "cell_type": "code",
   "outputs": [
    {
     "name": "stdout",
     "output_type": "stream",
     "text": [
      "Test rProp+\n",
      "Probabilità predette dalla rete non addestrata:\n",
      "Classe 0: 5.73709%\n",
      "Classe 1: 10.34306%\n",
      "Classe 2: 7.17911%\n",
      "Classe 3: 19.33272%\n",
      "Classe 4: 17.21841%\n",
      "Classe 5: 12.38962%\n",
      "Classe 6: 4.90118%\n",
      "Classe 7: 12.3188%\n",
      "Classe 8: 5.61562%\n",
      "Classe 9: 4.96439%\n",
      "\n",
      "Probabilità predette dalla rete addestrata:\n",
      "Classe 0: 71.1673%\n",
      "Classe 1: 0.18423%\n",
      "Classe 2: 0.3617%\n",
      "Classe 3: 2.0421%\n",
      "Classe 4: 0.07699%\n",
      "Classe 5: 3.10772%\n",
      "Classe 6: 13.86416%\n",
      "Classe 7: 0.00208%\n",
      "Classe 8: 8.52529%\n",
      "Classe 9: 0.66845%\n"
     ]
    },
    {
     "data": {
      "text/plain": "<Figure size 640x480 with 1 Axes>",
      "image/png": "[encoded data removed]"
     },
     "metadata": {},
     "output_type": "display_data"
    }
   ],
   "source": [
    "#Predizione rete senza addestramento e rete addestrata\n",
    "image = 47993\n",
    "\n",
    "print('Test rProp+')\n",
    "ut.test_prediction(net, plus_training_net, image, train_in)"
   ],
   "metadata": {
    "collapsed": false,
    "ExecuteTime": {
     "end_time": "2024-03-11T16:21:51.300838Z",
     "start_time": "2024-03-11T16:21:51.194380Z"
    }
   },
   "execution_count": 32
  },
  {
   "cell_type": "code",
   "outputs": [
    {
     "name": "stdout",
     "output_type": "stream",
     "text": [
      "Test irProp-\n",
      "Probabilità predette dalla rete non addestrata:\n",
      "Classe 0: 5.73709%\n",
      "Classe 1: 10.34306%\n",
      "Classe 2: 7.17911%\n",
      "Classe 3: 19.33272%\n",
      "Classe 4: 17.21841%\n",
      "Classe 5: 12.38962%\n",
      "Classe 6: 4.90118%\n",
      "Classe 7: 12.3188%\n",
      "Classe 8: 5.61562%\n",
      "Classe 9: 4.96439%\n",
      "\n",
      "Probabilità predette dalla rete addestrata:\n",
      "Classe 0: 22.08793%\n",
      "Classe 1: 0.01847%\n",
      "Classe 2: 3.13685%\n",
      "Classe 3: 1.68995%\n",
      "Classe 4: 0.02844%\n",
      "Classe 5: 5.24526%\n",
      "Classe 6: 23.95644%\n",
      "Classe 7: 0.00073%\n",
      "Classe 8: 42.08861%\n",
      "Classe 9: 1.74732%\n"
     ]
    },
    {
     "data": {
      "text/plain": "<Figure size 640x480 with 1 Axes>",
      "image/png": "[encoded data removed]"
     },
     "metadata": {},
     "output_type": "display_data"
    }
   ],
   "source": [
    "#Predizione rete senza addestramento e rete addestrata\n",
    "image = 47993\n",
    "\n",
    "print('Test irProp-')\n",
    "ut.test_prediction(net, istd_training_net, image, train_in)"
   ],
   "metadata": {
    "collapsed": false,
    "ExecuteTime": {
     "end_time": "2024-03-11T16:21:51.382066Z",
     "start_time": "2024-03-11T16:21:51.302229Z"
    }
   },
   "execution_count": 33
  },
  {
   "cell_type": "code",
   "outputs": [
    {
     "name": "stdout",
     "output_type": "stream",
     "text": [
      "Test irProp+\n",
      "Probabilità predette dalla rete non addestrata:\n",
      "Classe 0: 5.73709%\n",
      "Classe 1: 10.34306%\n",
      "Classe 2: 7.17911%\n",
      "Classe 3: 19.33272%\n",
      "Classe 4: 17.21841%\n",
      "Classe 5: 12.38962%\n",
      "Classe 6: 4.90118%\n",
      "Classe 7: 12.3188%\n",
      "Classe 8: 5.61562%\n",
      "Classe 9: 4.96439%\n",
      "\n",
      "Probabilità predette dalla rete addestrata:\n",
      "Classe 0: 61.06755%\n",
      "Classe 1: 2.11745%\n",
      "Classe 2: 0.21746%\n",
      "Classe 3: 4.22718%\n",
      "Classe 4: 0.02045%\n",
      "Classe 5: 2.31924%\n",
      "Classe 6: 27.32038%\n",
      "Classe 7: 0.00043%\n",
      "Classe 8: 2.27202%\n",
      "Classe 9: 0.43784%\n"
     ]
    },
    {
     "data": {
      "text/plain": "<Figure size 640x480 with 1 Axes>",
      "image/png": "[encoded data removed]"
     },
     "metadata": {},
     "output_type": "display_data"
    }
   ],
   "source": [
    "#Predizione rete senza addestramento e rete addestrata\n",
    "image = 47993\n",
    "\n",
    "print('Test irProp+')\n",
    "ut.test_prediction(net, iplus_training_net, image, train_in)"
   ],
   "metadata": {
    "ExecuteTime": {
     "end_time": "2024-03-11T16:21:51.524008Z",
     "start_time": "2024-03-11T16:21:51.383253Z"
    }
   },
   "execution_count": 34
  }
 ],
 "metadata": {
  "kernelspec": {
   "display_name": "Python 3",
   "language": "python",
   "name": "python3"
  },
  "language_info": {
   "codemirror_mode": {
    "name": "ipython",
    "version": 3
   },
   "file_extension": ".py",
   "mimetype": "text/x-python",
   "name": "python",
   "nbconvert_exporter": "python",
   "pygments_lexer": "ipython3",
   "version": "3.9.10"
  }
 },
 "nbformat": 4,
 "nbformat_minor": 2
}
