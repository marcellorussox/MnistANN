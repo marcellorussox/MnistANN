{
 "cells": [
  {
   "cell_type": "markdown",
   "source": [
    "# Analisi delle varianti di RProp per la classificazione del dataset MNIST\n",
    "\n",
    "## Introduzione\n",
    "\n",
    "In questo quaderno, esploreremo le prestazioni di diverse varianti dell'algoritmo di ottimizzazione RProp (Resilient Backpropagation) applicate alla classificazione del famoso dataset MNIST. Il dataset MNIST è un insieme di immagini di cifre scritte a mano, ampiamente utilizzato come benchmark nell'ambito dell'apprendimento automatico e del riconoscimento di pattern.\n",
    "\n",
    "## Obiettivo\n",
    "\n",
    "L'obiettivo principale di questo studio è valutare le prestazioni di diverse varianti di RProp nell'addestramento di reti neurali artificiali per la classificazione del dataset MNIST. In particolare, esploreremo:\n",
    "\n",
    "- RProp standard (RProp-)\n",
    "- RProp con backtracking dei pesi (RProp+)\n",
    "- Improved RProp (iRProp-)\n",
    "- Improved RProp con backtracking dei pesi (iRProp+)\n",
    "\n",
    "Per ciascuna variante di RProp, addestreremo una rete neurale artificiale originaria e ne valuteremo le prestazioni attraverso grafici che mostrano l'andamento dell'errore e della precisione sia sul set di addestramento che sul set di validazione. Infine, testeremo le reti addestrate su un set di test e visualizzeremo le probabilità predette per alcune immagini del dataset.\n",
    "\n",
    "## Contenuti\n",
    "\n",
    "1. Estrazione e preparazione del dataset MNIST\n",
    "2. Creazione della rete neurale originaria\n",
    "3. Addestramento delle reti neurali con diverse varianti di RProp\n",
    "4. Valutazione delle prestazioni attraverso grafici\n",
    "5. Test delle reti addestrate su nuove immagini\n",
    "6. Conclusioni e osservazioni finali\n"
   ],
   "metadata": {
    "collapsed": false
   }
  },
  {
   "cell_type": "code",
   "outputs": [
    {
     "name": "stdout",
     "output_type": "stream",
     "text": [
      "Numero di strati nascosti: 1\n",
      "Dimensione dell'input: 784\n",
      "Dimensione dell'output: 10\n",
      "Neuroni negli strati nascosti: 100\n",
      "Funzioni di attivazione: tanh, identity\n",
      "Funzione di errore: cross_entropy_softmax\n"
     ]
    }
   ],
   "source": [
    "from uninaannpy import neural_network as nn\n",
    "from uninaannpy import error_functions as ef\n",
    "from uninaannpy import activation_functions as af\n",
    "from uninaannpy import datasets as ds\n",
    "from uninaannpy import utility as ut\n",
    "\n",
    "import numpy as np\n",
    "import pandas as pd\n",
    "\n",
    "#Lettura csv con pandas\n",
    "train_data = pd.read_csv('data/mnist_train.csv')\n",
    "test_data = pd.read_csv('data/mnist_test.csv')\n",
    "\n",
    "#Ottenimento array per il training e il testing\n",
    "train_array = np.array(train_data)\n",
    "test_array = np.array(test_data)\n",
    "\n",
    "#Estrapoliamo il numero di righe e di colonne di train e test\n",
    "train_rows, train_cols = train_array.shape \n",
    "test_rows, test_cols = test_array.shape  \n",
    "\n",
    "#Mescola casualmente i dati prima di suddividerli in set di sviluppo e training\n",
    "np.random.shuffle(train_array)  \n",
    "#Calcolo percentuale dati per il validation set\n",
    "validation_percentage = 0.20\n",
    "val_index = int(np.ceil(train_rows * validation_percentage))\n",
    "\n",
    "#Distribuzione training, validation e test set\n",
    "train_in, train_labels = ds.get_mnist_training(train_array, train_rows, train_cols, val_index)\n",
    "validation_in, validation_labels = ds.get_mnist_validation(train_array, train_cols, val_index)\n",
    "test_in, test_labels = ds.get_mnist_testing(test_array, test_cols, test_rows)\n",
    "\n",
    "#Creazione rete neurale\n",
    "#Assegnazione funzioni di attivazione per ogni strato della rete\n",
    "hidden_activation_functions = [af.tanh]\n",
    "\n",
    "#Assegnazione numero di neuroni per ogni strato\n",
    "hidden_layers = [100]\n",
    "#Assegnazione della funzione di attivazione e di errore per l'ultimo strato della rete\n",
    "output_activation_function = af.identity\n",
    "error_function = ef.cross_entropy_softmax\n",
    "\n",
    "#Estrazione input e target\n",
    "input_layer_size = train_in.shape[0]\n",
    "output_layer_size = train_labels.shape[0]\n",
    "net = nn.NeuralNetwork(hidden_activation_functions, output_activation_function, error_function,\n",
    "                input_layer_size, hidden_layers, output_layer_size)\n",
    "\n",
    "#Copia la rete principale in quattro per il training\n",
    "std_training_net = net.duplicate_network()\n",
    "plus_training_net = net.duplicate_network()\n",
    "istd_training_net = net.duplicate_network()\n",
    "iplus_training_net = net.duplicate_network()\n",
    "\n",
    "std_training_net.get_net_structure()"
   ],
   "metadata": {
    "ExecuteTime": {
     "end_time": "2024-03-14T15:58:19.891422Z",
     "start_time": "2024-03-14T15:58:16.721041Z"
    }
   },
   "execution_count": 1
  },
  {
   "cell_type": "code",
   "execution_count": 2,
   "metadata": {
    "collapsed": false,
    "ExecuteTime": {
     "end_time": "2024-03-14T15:58:45.293365Z",
     "start_time": "2024-03-14T15:58:19.895346Z"
    }
   },
   "outputs": [
    {
     "name": "stdout",
     "output_type": "stream",
     "text": [
      "\n",
      "Epoca: 0/40    rProp utilizzata: RPropType.STANDARD\n",
      "    Training Accuracy: 7.88766%,\n",
      "    Validation Accuracy: 7.84232%\n",
      "\n",
      "Epoca: 1/40   rProp utilizzata: RPropType.STANDARD\n",
      "    Training Accuracy: 29.0006%,\n",
      "    Validation Accuracy: 28.26902%\n",
      "\n",
      "Epoca: 2/40   rProp utilizzata: RPropType.STANDARD\n",
      "    Training Accuracy: 53.99904%,\n",
      "    Validation Accuracy: 54.31286%\n",
      "\n",
      "Epoca: 3/40   rProp utilizzata: RPropType.STANDARD\n",
      "    Training Accuracy: 37.55495%,\n",
      "    Validation Accuracy: 37.86982%\n",
      "\n",
      "Epoca: 4/40   rProp utilizzata: RPropType.STANDARD\n",
      "    Training Accuracy: 35.1174%,\n",
      "    Validation Accuracy: 35.01125%\n",
      "\n",
      "Epoca: 5/40   rProp utilizzata: RPropType.STANDARD\n",
      "    Training Accuracy: 50.70106%,\n",
      "    Validation Accuracy: 51.03759%\n",
      "\n",
      "Epoca: 6/40   rProp utilizzata: RPropType.STANDARD\n",
      "    Training Accuracy: 48.6281%,\n",
      "    Validation Accuracy: 49.14576%\n",
      "\n",
      "Epoca: 7/40   rProp utilizzata: RPropType.STANDARD\n",
      "    Training Accuracy: 68.43893%,\n",
      "    Validation Accuracy: 68.51404%\n",
      "\n",
      "Epoca: 8/40   rProp utilizzata: RPropType.STANDARD\n",
      "    Training Accuracy: 77.20786%,\n",
      "    Validation Accuracy: 77.83149%\n",
      "\n",
      "Epoca: 9/40   rProp utilizzata: RPropType.STANDARD\n",
      "    Training Accuracy: 82.99965%,\n",
      "    Validation Accuracy: 83.09859%\n",
      "\n",
      "Epoca: 10/40   rProp utilizzata: RPropType.STANDARD\n",
      "    Training Accuracy: 86.6018%,\n",
      "    Validation Accuracy: 86.48221%\n",
      "\n",
      "Epoca: 11/40   rProp utilizzata: RPropType.STANDARD\n",
      "    Training Accuracy: 88.10392%,\n",
      "    Validation Accuracy: 87.80732%\n",
      "\n",
      "Epoca: 12/40   rProp utilizzata: RPropType.STANDARD\n",
      "    Training Accuracy: 89.77062%,\n",
      "    Validation Accuracy: 89.5408%\n",
      "\n",
      "Epoca: 13/40   rProp utilizzata: RPropType.STANDARD\n",
      "    Training Accuracy: 90.53522%,\n",
      "    Validation Accuracy: 90.31586%\n",
      "\n",
      "Epoca: 14/40   rProp utilizzata: RPropType.STANDARD\n",
      "    Training Accuracy: 91.3519%,\n",
      "    Validation Accuracy: 91.00758%\n",
      "\n",
      "Epoca: 15/40   rProp utilizzata: RPropType.STANDARD\n",
      "    Training Accuracy: 92.079%,\n",
      "    Validation Accuracy: 91.59097%\n",
      "\n",
      "Epoca: 16/40   rProp utilizzata: RPropType.STANDARD\n",
      "    Training Accuracy: 92.56235%,\n",
      "    Validation Accuracy: 92.19935%\n",
      "\n",
      "Epoca: 17/40   rProp utilizzata: RPropType.STANDARD\n",
      "    Training Accuracy: 93.11444%,\n",
      "    Validation Accuracy: 92.58272%\n",
      "\n",
      "Epoca: 18/40   rProp utilizzata: RPropType.STANDARD\n",
      "    Training Accuracy: 93.49361%,\n",
      "    Validation Accuracy: 93.08276%\n",
      "\n",
      "Epoca: 19/40   rProp utilizzata: RPropType.STANDARD\n",
      "    Training Accuracy: 93.96029%,\n",
      "    Validation Accuracy: 93.33278%\n",
      "\n",
      "Epoca: 20/40   rProp utilizzata: RPropType.STANDARD\n",
      "    Training Accuracy: 94.27071%,\n",
      "    Validation Accuracy: 93.66614%\n",
      "\n",
      "Epoca: 21/40   rProp utilizzata: RPropType.STANDARD\n",
      "    Training Accuracy: 94.62489%,\n",
      "    Validation Accuracy: 93.89949%\n",
      "\n",
      "Epoca: 22/40   rProp utilizzata: RPropType.STANDARD\n",
      "    Training Accuracy: 95.0124%,\n",
      "    Validation Accuracy: 93.9745%\n",
      "\n",
      "Epoca: 23/40   rProp utilizzata: RPropType.STANDARD\n",
      "    Training Accuracy: 95.23323%,\n",
      "    Validation Accuracy: 94.25785%\n",
      "\n",
      "Epoca: 24/40   rProp utilizzata: RPropType.STANDARD\n",
      "    Training Accuracy: 95.53116%,\n",
      "    Validation Accuracy: 94.33286%\n",
      "\n",
      "Epoca: 25/40   rProp utilizzata: RPropType.STANDARD\n",
      "    Training Accuracy: 95.69991%,\n",
      "    Validation Accuracy: 94.4412%\n",
      "\n",
      "Epoca: 26/40   rProp utilizzata: RPropType.STANDARD\n",
      "    Training Accuracy: 95.93325%,\n",
      "    Validation Accuracy: 94.60788%\n",
      "\n",
      "Epoca: 27/40   rProp utilizzata: RPropType.STANDARD\n",
      "    Training Accuracy: 96.14784%,\n",
      "    Validation Accuracy: 94.68289%\n",
      "\n",
      "Epoca: 28/40   rProp utilizzata: RPropType.STANDARD\n",
      "    Training Accuracy: 96.32909%,\n",
      "    Validation Accuracy: 94.7579%\n",
      "\n",
      "Epoca: 29/40   rProp utilizzata: RPropType.STANDARD\n",
      "    Training Accuracy: 96.47909%,\n",
      "    Validation Accuracy: 94.8329%\n",
      "\n",
      "Epoca: 30/40   rProp utilizzata: RPropType.STANDARD\n",
      "    Training Accuracy: 96.74785%,\n",
      "    Validation Accuracy: 94.90791%\n",
      "\n",
      "Epoca: 31/40   rProp utilizzata: RPropType.STANDARD\n",
      "    Training Accuracy: 96.79993%,\n",
      "    Validation Accuracy: 94.95791%\n",
      "\n",
      "Epoca: 32/40   rProp utilizzata: RPropType.STANDARD\n",
      "    Training Accuracy: 96.96035%,\n",
      "    Validation Accuracy: 95.02459%\n",
      "\n",
      "Epoca: 33/40   rProp utilizzata: RPropType.STANDARD\n",
      "    Training Accuracy: 97.08119%,\n",
      "    Validation Accuracy: 95.09959%\n",
      "\n",
      "Epoca: 34/40   rProp utilizzata: RPropType.STANDARD\n",
      "    Training Accuracy: 97.24369%,\n",
      "    Validation Accuracy: 95.14126%\n",
      "\n",
      "Epoca: 35/40   rProp utilizzata: RPropType.STANDARD\n",
      "    Training Accuracy: 97.33328%,\n",
      "    Validation Accuracy: 95.24127%\n",
      "\n",
      "Epoca: 36/40   rProp utilizzata: RPropType.STANDARD\n",
      "    Training Accuracy: 97.48536%,\n",
      "    Validation Accuracy: 95.25794%\n",
      "\n",
      "Epoca: 37/40   rProp utilizzata: RPropType.STANDARD\n",
      "    Training Accuracy: 97.58953%,\n",
      "    Validation Accuracy: 95.34961%\n",
      "\n",
      "Epoca: 38/40   rProp utilizzata: RPropType.STANDARD\n",
      "    Training Accuracy: 97.65828%,\n",
      "    Validation Accuracy: 95.32461%\n",
      "\n",
      "Epoca: 39/40   rProp utilizzata: RPropType.STANDARD\n",
      "    Training Accuracy: 97.79995%,\n",
      "    Validation Accuracy: 95.42462%\n",
      "\n",
      "Epoca: 40/40   rProp utilizzata: RPropType.STANDARD\n",
      "    Training Accuracy: 97.90412%,\n",
      "    Validation Accuracy: 95.48296%\n"
     ]
    }
   ],
   "source": [
    "from uninaannpy.neural_network import RPropType\n",
    "\n",
    "# Batch training rProp standard\n",
    "std_train_err, std_validation_err, std_train_accuracy, std_validation_accuracy = std_training_net.train_neural_network(train_in, train_labels, validation_in, validation_labels, epochs=40, learning_rate=0.00001, rprop_type=RPropType.STANDARD)"
   ]
  },
  {
   "cell_type": "code",
   "outputs": [
    {
     "name": "stdout",
     "output_type": "stream",
     "text": [
      "\n",
      "Epoca: 0/40    rProp utilizzata: RPropType.RPROP_PLUS\n",
      "    Training Accuracy: 7.88766%,\n",
      "    Validation Accuracy: 7.84232%\n",
      "\n",
      "Epoca: 1/40   rProp utilizzata: RPropType.RPROP_PLUS\n",
      "    Training Accuracy: 29.0006%,\n",
      "    Validation Accuracy: 28.26902%\n",
      "\n",
      "Epoca: 2/40   rProp utilizzata: RPropType.RPROP_PLUS\n",
      "    Training Accuracy: 47.7635%,\n",
      "    Validation Accuracy: 47.6373%\n",
      "\n",
      "Epoca: 3/40   rProp utilizzata: RPropType.RPROP_PLUS\n",
      "    Training Accuracy: 34.27155%,\n",
      "    Validation Accuracy: 34.23619%\n",
      "\n",
      "Epoca: 4/40   rProp utilizzata: RPropType.RPROP_PLUS\n",
      "    Training Accuracy: 34.01529%,\n",
      "    Validation Accuracy: 34.11118%\n",
      "\n",
      "Epoca: 5/40   rProp utilizzata: RPropType.RPROP_PLUS\n",
      "    Training Accuracy: 47.85725%,\n",
      "    Validation Accuracy: 47.49562%\n",
      "\n",
      "Epoca: 6/40   rProp utilizzata: RPropType.RPROP_PLUS\n",
      "    Training Accuracy: 45.6697%,\n",
      "    Validation Accuracy: 47.04559%\n",
      "\n",
      "Epoca: 7/40   rProp utilizzata: RPropType.RPROP_PLUS\n",
      "    Training Accuracy: 58.68039%,\n",
      "    Validation Accuracy: 58.19652%\n",
      "\n",
      "Epoca: 8/40   rProp utilizzata: RPropType.RPROP_PLUS\n",
      "    Training Accuracy: 60.6096%,\n",
      "    Validation Accuracy: 61.65514%\n",
      "\n",
      "Epoca: 9/40   rProp utilizzata: RPropType.RPROP_PLUS\n",
      "    Training Accuracy: 77.01619%,\n",
      "    Validation Accuracy: 77.07309%\n",
      "\n",
      "Epoca: 10/40   rProp utilizzata: RPropType.RPROP_PLUS\n",
      "    Training Accuracy: 76.212%,\n",
      "    Validation Accuracy: 76.95641%\n",
      "\n",
      "Epoca: 11/40   rProp utilizzata: RPropType.RPROP_PLUS\n",
      "    Training Accuracy: 77.79329%,\n",
      "    Validation Accuracy: 77.74815%\n",
      "\n",
      "Epoca: 12/40   rProp utilizzata: RPropType.RPROP_PLUS\n",
      "    Training Accuracy: 82.68089%,\n",
      "    Validation Accuracy: 82.91524%\n",
      "\n",
      "Epoca: 13/40   rProp utilizzata: RPropType.RPROP_PLUS\n",
      "    Training Accuracy: 87.4164%,\n",
      "    Validation Accuracy: 87.51563%\n",
      "\n",
      "Epoca: 14/40   rProp utilizzata: RPropType.RPROP_PLUS\n",
      "    Training Accuracy: 88.21434%,\n",
      "    Validation Accuracy: 88.3657%\n",
      "\n",
      "Epoca: 15/40   rProp utilizzata: RPropType.RPROP_PLUS\n",
      "    Training Accuracy: 89.93312%,\n",
      "    Validation Accuracy: 90.10751%\n",
      "\n",
      "Epoca: 16/40   rProp utilizzata: RPropType.RPROP_PLUS\n",
      "    Training Accuracy: 90.28938%,\n",
      "    Validation Accuracy: 90.10751%\n",
      "\n",
      "Epoca: 17/40   rProp utilizzata: RPropType.RPROP_PLUS\n",
      "    Training Accuracy: 91.09981%,\n",
      "    Validation Accuracy: 90.93258%\n",
      "\n",
      "Epoca: 18/40   rProp utilizzata: RPropType.RPROP_PLUS\n",
      "    Training Accuracy: 91.71024%,\n",
      "    Validation Accuracy: 91.40762%\n",
      "\n",
      "Epoca: 19/40   rProp utilizzata: RPropType.RPROP_PLUS\n",
      "    Training Accuracy: 92.24776%,\n",
      "    Validation Accuracy: 91.78265%\n",
      "\n",
      "Epoca: 20/40   rProp utilizzata: RPropType.RPROP_PLUS\n",
      "    Training Accuracy: 92.72277%,\n",
      "    Validation Accuracy: 92.09101%\n",
      "\n",
      "Epoca: 21/40   rProp utilizzata: RPropType.RPROP_PLUS\n",
      "    Training Accuracy: 93.11444%,\n",
      "    Validation Accuracy: 92.54105%\n",
      "\n",
      "Epoca: 22/40   rProp utilizzata: RPropType.RPROP_PLUS\n",
      "    Training Accuracy: 93.52903%,\n",
      "    Validation Accuracy: 92.70773%\n",
      "\n",
      "Epoca: 23/40   rProp utilizzata: RPropType.RPROP_PLUS\n",
      "    Training Accuracy: 93.89571%,\n",
      "    Validation Accuracy: 93.05775%\n",
      "\n",
      "Epoca: 24/40   rProp utilizzata: RPropType.RPROP_PLUS\n",
      "    Training Accuracy: 94.19571%,\n",
      "    Validation Accuracy: 93.14943%\n",
      "\n",
      "Epoca: 25/40   rProp utilizzata: RPropType.RPROP_PLUS\n",
      "    Training Accuracy: 94.54155%,\n",
      "    Validation Accuracy: 93.56613%\n",
      "\n",
      "Epoca: 26/40   rProp utilizzata: RPropType.RPROP_PLUS\n",
      "    Training Accuracy: 94.72072%,\n",
      "    Validation Accuracy: 93.59947%\n",
      "\n",
      "Epoca: 27/40   rProp utilizzata: RPropType.RPROP_PLUS\n",
      "    Training Accuracy: 94.98948%,\n",
      "    Validation Accuracy: 93.74115%\n",
      "\n",
      "Epoca: 28/40   rProp utilizzata: RPropType.RPROP_PLUS\n",
      "    Training Accuracy: 95.1999%,\n",
      "    Validation Accuracy: 93.80782%\n",
      "\n",
      "Epoca: 29/40   rProp utilizzata: RPropType.RPROP_PLUS\n",
      "    Training Accuracy: 95.38949%,\n",
      "    Validation Accuracy: 94.04117%\n",
      "\n",
      "Epoca: 30/40   rProp utilizzata: RPropType.RPROP_PLUS\n",
      "    Training Accuracy: 95.65824%,\n",
      "    Validation Accuracy: 94.09951%\n",
      "\n",
      "Epoca: 31/40   rProp utilizzata: RPropType.RPROP_PLUS\n",
      "    Training Accuracy: 95.81241%,\n",
      "    Validation Accuracy: 94.37453%\n",
      "\n",
      "Epoca: 32/40   rProp utilizzata: RPropType.RPROP_PLUS\n",
      "    Training Accuracy: 96.04575%,\n",
      "    Validation Accuracy: 94.35786%\n",
      "\n",
      "Epoca: 33/40   rProp utilizzata: RPropType.RPROP_PLUS\n",
      "    Training Accuracy: 96.152%,\n",
      "    Validation Accuracy: 94.50788%\n",
      "\n",
      "Epoca: 34/40   rProp utilizzata: RPropType.RPROP_PLUS\n",
      "    Training Accuracy: 96.32492%,\n",
      "    Validation Accuracy: 94.49121%\n",
      "\n",
      "Epoca: 35/40   rProp utilizzata: RPropType.RPROP_PLUS\n",
      "    Training Accuracy: 96.37701%,\n",
      "    Validation Accuracy: 94.74123%\n",
      "\n",
      "Epoca: 36/40   rProp utilizzata: RPropType.RPROP_PLUS\n",
      "    Training Accuracy: 96.58743%,\n",
      "    Validation Accuracy: 94.84957%\n",
      "\n",
      "Epoca: 37/40   rProp utilizzata: RPropType.RPROP_PLUS\n",
      "    Training Accuracy: 96.69785%,\n",
      "    Validation Accuracy: 94.95791%\n",
      "\n",
      "Epoca: 38/40   rProp utilizzata: RPropType.RPROP_PLUS\n",
      "    Training Accuracy: 96.85618%,\n",
      "    Validation Accuracy: 95.11626%\n",
      "\n",
      "Epoca: 39/40   rProp utilizzata: RPropType.RPROP_PLUS\n",
      "    Training Accuracy: 96.96035%,\n",
      "    Validation Accuracy: 95.10793%\n",
      "\n",
      "Epoca: 40/40   rProp utilizzata: RPropType.RPROP_PLUS\n",
      "    Training Accuracy: 97.09994%,\n",
      "    Validation Accuracy: 95.23294%\n"
     ]
    }
   ],
   "source": [
    "from uninaannpy.neural_network import RPropType\n",
    "\n",
    "# Batch training rProp con weight-backtracking\n",
    "plus_train_err, plus_validation_err, plus_train_accuracy, plus_validation_accuracy = plus_training_net.train_neural_network(train_in, train_labels, validation_in, validation_labels, epochs=40, learning_rate=0.00001, rprop_type=RPropType.RPROP_PLUS)"
   ],
   "metadata": {
    "collapsed": false,
    "ExecuteTime": {
     "end_time": "2024-03-14T15:59:09.621012Z",
     "start_time": "2024-03-14T15:58:45.295493Z"
    }
   },
   "execution_count": 3
  },
  {
   "cell_type": "code",
   "outputs": [
    {
     "name": "stdout",
     "output_type": "stream",
     "text": [
      "\n",
      "Epoca: 0/40    rProp utilizzata: RPropType.IRPROP\n",
      "    Training Accuracy: 7.88766%,\n",
      "    Validation Accuracy: 7.84232%\n",
      "\n",
      "Epoca: 1/40   rProp utilizzata: RPropType.IRPROP\n",
      "    Training Accuracy: 29.0006%,\n",
      "    Validation Accuracy: 28.26902%\n",
      "\n",
      "Epoca: 2/40   rProp utilizzata: RPropType.IRPROP\n",
      "    Training Accuracy: 53.99904%,\n",
      "    Validation Accuracy: 54.31286%\n",
      "\n",
      "Epoca: 3/40   rProp utilizzata: RPropType.IRPROP\n",
      "    Training Accuracy: 36.15909%,\n",
      "    Validation Accuracy: 36.52804%\n",
      "\n",
      "Epoca: 4/40   rProp utilizzata: RPropType.IRPROP\n",
      "    Training Accuracy: 36.71743%,\n",
      "    Validation Accuracy: 37.31144%\n",
      "\n",
      "Epoca: 5/40   rProp utilizzata: RPropType.IRPROP\n",
      "    Training Accuracy: 39.26748%,\n",
      "    Validation Accuracy: 39.61997%\n",
      "\n",
      "Epoca: 6/40   rProp utilizzata: RPropType.IRPROP\n",
      "    Training Accuracy: 61.04086%,\n",
      "    Validation Accuracy: 61.30511%\n",
      "\n",
      "Epoca: 7/40   rProp utilizzata: RPropType.IRPROP\n",
      "    Training Accuracy: 69.82229%,\n",
      "    Validation Accuracy: 70.33919%\n",
      "\n",
      "Epoca: 8/40   rProp utilizzata: RPropType.IRPROP\n",
      "    Training Accuracy: 80.26001%,\n",
      "    Validation Accuracy: 80.49004%\n",
      "\n",
      "Epoca: 9/40   rProp utilizzata: RPropType.IRPROP\n",
      "    Training Accuracy: 79.86208%,\n",
      "    Validation Accuracy: 80.28169%\n",
      "\n",
      "Epoca: 10/40   rProp utilizzata: RPropType.IRPROP\n",
      "    Training Accuracy: 86.84556%,\n",
      "    Validation Accuracy: 86.57388%\n",
      "\n",
      "Epoca: 11/40   rProp utilizzata: RPropType.IRPROP\n",
      "    Training Accuracy: 88.28517%,\n",
      "    Validation Accuracy: 88.13234%\n",
      "\n",
      "Epoca: 12/40   rProp utilizzata: RPropType.IRPROP\n",
      "    Training Accuracy: 89.99562%,\n",
      "    Validation Accuracy: 89.78248%\n",
      "\n",
      "Epoca: 13/40   rProp utilizzata: RPropType.IRPROP\n",
      "    Training Accuracy: 90.48522%,\n",
      "    Validation Accuracy: 90.19085%\n",
      "\n",
      "Epoca: 14/40   rProp utilizzata: RPropType.IRPROP\n",
      "    Training Accuracy: 91.65191%,\n",
      "    Validation Accuracy: 91.31594%\n",
      "\n",
      "Epoca: 15/40   rProp utilizzata: RPropType.IRPROP\n",
      "    Training Accuracy: 92.31026%,\n",
      "    Validation Accuracy: 92.04934%\n",
      "\n",
      "Epoca: 16/40   rProp utilizzata: RPropType.IRPROP\n",
      "    Training Accuracy: 92.90819%,\n",
      "    Validation Accuracy: 92.39103%\n",
      "\n",
      "Epoca: 17/40   rProp utilizzata: RPropType.IRPROP\n",
      "    Training Accuracy: 93.42486%,\n",
      "    Validation Accuracy: 92.89107%\n",
      "\n",
      "Epoca: 18/40   rProp utilizzata: RPropType.IRPROP\n",
      "    Training Accuracy: 93.91237%,\n",
      "    Validation Accuracy: 93.1911%\n",
      "\n",
      "Epoca: 19/40   rProp utilizzata: RPropType.IRPROP\n",
      "    Training Accuracy: 94.36863%,\n",
      "    Validation Accuracy: 93.48279%\n",
      "\n",
      "Epoca: 20/40   rProp utilizzata: RPropType.IRPROP\n",
      "    Training Accuracy: 94.75614%,\n",
      "    Validation Accuracy: 93.90783%\n",
      "\n",
      "Epoca: 21/40   rProp utilizzata: RPropType.IRPROP\n",
      "    Training Accuracy: 95.09573%,\n",
      "    Validation Accuracy: 94.09951%\n",
      "\n",
      "Epoca: 22/40   rProp utilizzata: RPropType.IRPROP\n",
      "    Training Accuracy: 95.25407%,\n",
      "    Validation Accuracy: 94.08284%\n",
      "\n",
      "Epoca: 23/40   rProp utilizzata: RPropType.IRPROP\n",
      "    Training Accuracy: 95.58949%,\n",
      "    Validation Accuracy: 94.30786%\n",
      "\n",
      "Epoca: 24/40   rProp utilizzata: RPropType.IRPROP\n",
      "    Training Accuracy: 95.827%,\n",
      "    Validation Accuracy: 94.40787%\n",
      "\n",
      "Epoca: 25/40   rProp utilizzata: RPropType.IRPROP\n",
      "    Training Accuracy: 96.07283%,\n",
      "    Validation Accuracy: 94.50788%\n",
      "\n",
      "Epoca: 26/40   rProp utilizzata: RPropType.IRPROP\n",
      "    Training Accuracy: 96.31659%,\n",
      "    Validation Accuracy: 94.73289%\n",
      "\n",
      "Epoca: 27/40   rProp utilizzata: RPropType.IRPROP\n",
      "    Training Accuracy: 96.49993%,\n",
      "    Validation Accuracy: 94.8579%\n",
      "\n",
      "Epoca: 28/40   rProp utilizzata: RPropType.IRPROP\n",
      "    Training Accuracy: 96.70201%,\n",
      "    Validation Accuracy: 94.94958%\n",
      "\n",
      "Epoca: 29/40   rProp utilizzata: RPropType.IRPROP\n",
      "    Training Accuracy: 96.8416%,\n",
      "    Validation Accuracy: 95.04959%\n",
      "\n",
      "Epoca: 30/40   rProp utilizzata: RPropType.IRPROP\n",
      "    Training Accuracy: 97.0166%,\n",
      "    Validation Accuracy: 95.04125%\n",
      "\n",
      "Epoca: 31/40   rProp utilizzata: RPropType.IRPROP\n",
      "    Training Accuracy: 97.14786%,\n",
      "    Validation Accuracy: 95.16626%\n",
      "\n",
      "Epoca: 32/40   rProp utilizzata: RPropType.IRPROP\n",
      "    Training Accuracy: 97.29786%,\n",
      "    Validation Accuracy: 95.1496%\n",
      "\n",
      "Epoca: 33/40   rProp utilizzata: RPropType.IRPROP\n",
      "    Training Accuracy: 97.42703%,\n",
      "    Validation Accuracy: 95.23294%\n",
      "\n",
      "Epoca: 34/40   rProp utilizzata: RPropType.IRPROP\n",
      "    Training Accuracy: 97.53537%,\n",
      "    Validation Accuracy: 95.29961%\n",
      "\n",
      "Epoca: 35/40   rProp utilizzata: RPropType.IRPROP\n",
      "    Training Accuracy: 97.64162%,\n",
      "    Validation Accuracy: 95.30794%\n",
      "\n",
      "Epoca: 36/40   rProp utilizzata: RPropType.IRPROP\n",
      "    Training Accuracy: 97.71037%,\n",
      "    Validation Accuracy: 95.26627%\n",
      "\n",
      "Epoca: 37/40   rProp utilizzata: RPropType.IRPROP\n",
      "    Training Accuracy: 97.84579%,\n",
      "    Validation Accuracy: 95.44962%\n",
      "\n",
      "Epoca: 38/40   rProp utilizzata: RPropType.IRPROP\n",
      "    Training Accuracy: 97.98746%,\n",
      "    Validation Accuracy: 95.39128%\n",
      "\n",
      "Epoca: 39/40   rProp utilizzata: RPropType.IRPROP\n",
      "    Training Accuracy: 98.12079%,\n",
      "    Validation Accuracy: 95.43295%\n",
      "\n",
      "Epoca: 40/40   rProp utilizzata: RPropType.IRPROP\n",
      "    Training Accuracy: 98.23746%,\n",
      "    Validation Accuracy: 95.52463%\n"
     ]
    }
   ],
   "source": [
    "from uninaannpy.neural_network import RPropType\n",
    "\n",
    "# Batch training improved rProp con weight-backtracking\n",
    "istd_train_err, istd_validation_err, istd_train_accuracy, istd_validation_accuracy = istd_training_net.train_neural_network(train_in, train_labels, validation_in, validation_labels, epochs=40, learning_rate=0.00001, rprop_type=RPropType.IRPROP)"
   ],
   "metadata": {
    "collapsed": false,
    "ExecuteTime": {
     "end_time": "2024-03-14T15:59:32.708842Z",
     "start_time": "2024-03-14T15:59:09.624778Z"
    }
   },
   "execution_count": 4
  },
  {
   "cell_type": "code",
   "outputs": [
    {
     "name": "stdout",
     "output_type": "stream",
     "text": [
      "\n",
      "Epoca: 0/40    rProp utilizzata: RPropType.IRPROP_PLUS\n",
      "    Training Accuracy: 7.88766%,\n",
      "    Validation Accuracy: 7.84232%\n",
      "\n",
      "Epoca: 1/40   rProp utilizzata: RPropType.IRPROP_PLUS\n",
      "    Training Accuracy: 29.0006%,\n",
      "    Validation Accuracy: 28.26902%\n",
      "\n",
      "Epoca: 2/40   rProp utilizzata: RPropType.IRPROP_PLUS\n",
      "    Training Accuracy: 62.13463%,\n",
      "    Validation Accuracy: 62.09684%\n",
      "\n",
      "Epoca: 3/40   rProp utilizzata: RPropType.IRPROP_PLUS\n",
      "    Training Accuracy: 29.25686%,\n",
      "    Validation Accuracy: 28.91074%\n",
      "\n",
      "Epoca: 4/40   rProp utilizzata: RPropType.IRPROP_PLUS\n",
      "    Training Accuracy: 56.46368%,\n",
      "    Validation Accuracy: 57.35478%\n",
      "\n",
      "Epoca: 5/40   rProp utilizzata: RPropType.IRPROP_PLUS\n",
      "    Training Accuracy: 38.20496%,\n",
      "    Validation Accuracy: 37.57813%\n",
      "\n",
      "Epoca: 6/40   rProp utilizzata: RPropType.IRPROP_PLUS\n",
      "    Training Accuracy: 50.4823%,\n",
      "    Validation Accuracy: 50.4292%\n",
      "\n",
      "Epoca: 7/40   rProp utilizzata: RPropType.IRPROP_PLUS\n",
      "    Training Accuracy: 53.50945%,\n",
      "    Validation Accuracy: 53.81282%\n",
      "\n",
      "Epoca: 8/40   rProp utilizzata: RPropType.IRPROP_PLUS\n",
      "    Training Accuracy: 78.62664%,\n",
      "    Validation Accuracy: 78.63155%\n",
      "\n",
      "Epoca: 9/40   rProp utilizzata: RPropType.IRPROP_PLUS\n",
      "    Training Accuracy: 68.191%,\n",
      "    Validation Accuracy: 68.47237%\n",
      "\n",
      "Epoca: 10/40   rProp utilizzata: RPropType.IRPROP_PLUS\n",
      "    Training Accuracy: 77.69954%,\n",
      "    Validation Accuracy: 77.72314%\n",
      "\n",
      "Epoca: 11/40   rProp utilizzata: RPropType.IRPROP_PLUS\n",
      "    Training Accuracy: 85.22053%,\n",
      "    Validation Accuracy: 85.2571%\n",
      "\n",
      "Epoca: 12/40   rProp utilizzata: RPropType.IRPROP_PLUS\n",
      "    Training Accuracy: 82.96215%,\n",
      "    Validation Accuracy: 82.94025%\n",
      "\n",
      "Epoca: 13/40   rProp utilizzata: RPropType.IRPROP_PLUS\n",
      "    Training Accuracy: 83.21423%,\n",
      "    Validation Accuracy: 82.77356%\n",
      "\n",
      "Epoca: 14/40   rProp utilizzata: RPropType.IRPROP_PLUS\n",
      "    Training Accuracy: 89.38103%,\n",
      "    Validation Accuracy: 89.28244%\n",
      "\n",
      "Epoca: 15/40   rProp utilizzata: RPropType.IRPROP_PLUS\n",
      "    Training Accuracy: 86.39555%,\n",
      "    Validation Accuracy: 86.36553%\n",
      "\n",
      "Epoca: 16/40   rProp utilizzata: RPropType.IRPROP_PLUS\n",
      "    Training Accuracy: 90.2873%,\n",
      "    Validation Accuracy: 90.02417%\n",
      "\n",
      "Epoca: 17/40   rProp utilizzata: RPropType.IRPROP_PLUS\n",
      "    Training Accuracy: 91.31232%,\n",
      "    Validation Accuracy: 90.7909%\n",
      "\n",
      "Epoca: 18/40   rProp utilizzata: RPropType.IRPROP_PLUS\n",
      "    Training Accuracy: 91.87275%,\n",
      "    Validation Accuracy: 91.14926%\n",
      "\n",
      "Epoca: 19/40   rProp utilizzata: RPropType.IRPROP_PLUS\n",
      "    Training Accuracy: 92.7686%,\n",
      "    Validation Accuracy: 92.016%\n",
      "\n",
      "Epoca: 20/40   rProp utilizzata: RPropType.IRPROP_PLUS\n",
      "    Training Accuracy: 93.31236%,\n",
      "    Validation Accuracy: 92.37436%\n",
      "\n",
      "Epoca: 21/40   rProp utilizzata: RPropType.IRPROP_PLUS\n",
      "    Training Accuracy: 93.78529%,\n",
      "    Validation Accuracy: 93.03275%\n",
      "\n",
      "Epoca: 22/40   rProp utilizzata: RPropType.IRPROP_PLUS\n",
      "    Training Accuracy: 94.30405%,\n",
      "    Validation Accuracy: 93.23277%\n",
      "\n",
      "Epoca: 23/40   rProp utilizzata: RPropType.IRPROP_PLUS\n",
      "    Training Accuracy: 94.74781%,\n",
      "    Validation Accuracy: 93.59947%\n",
      "\n",
      "Epoca: 24/40   rProp utilizzata: RPropType.IRPROP_PLUS\n",
      "    Training Accuracy: 95.22282%,\n",
      "    Validation Accuracy: 93.89949%\n",
      "\n",
      "Epoca: 25/40   rProp utilizzata: RPropType.IRPROP_PLUS\n",
      "    Training Accuracy: 95.53532%,\n",
      "    Validation Accuracy: 94.09117%\n",
      "\n",
      "Epoca: 26/40   rProp utilizzata: RPropType.IRPROP_PLUS\n",
      "    Training Accuracy: 95.90616%,\n",
      "    Validation Accuracy: 94.35786%\n",
      "\n",
      "Epoca: 27/40   rProp utilizzata: RPropType.IRPROP_PLUS\n",
      "    Training Accuracy: 96.14992%,\n",
      "    Validation Accuracy: 94.58288%\n",
      "\n",
      "Epoca: 28/40   rProp utilizzata: RPropType.IRPROP_PLUS\n",
      "    Training Accuracy: 96.46034%,\n",
      "    Validation Accuracy: 94.8329%\n",
      "\n",
      "Epoca: 29/40   rProp utilizzata: RPropType.IRPROP_PLUS\n",
      "    Training Accuracy: 96.7041%,\n",
      "    Validation Accuracy: 94.93291%\n",
      "\n",
      "Epoca: 30/40   rProp utilizzata: RPropType.IRPROP_PLUS\n",
      "    Training Accuracy: 96.95827%,\n",
      "    Validation Accuracy: 94.93291%\n",
      "\n",
      "Epoca: 31/40   rProp utilizzata: RPropType.IRPROP_PLUS\n",
      "    Training Accuracy: 97.16661%,\n",
      "    Validation Accuracy: 95.13293%\n",
      "\n",
      "Epoca: 32/40   rProp utilizzata: RPropType.IRPROP_PLUS\n",
      "    Training Accuracy: 97.37703%,\n",
      "    Validation Accuracy: 95.11626%\n",
      "\n",
      "Epoca: 33/40   rProp utilizzata: RPropType.IRPROP_PLUS\n",
      "    Training Accuracy: 97.5562%,\n",
      "    Validation Accuracy: 95.19127%\n",
      "\n",
      "Epoca: 34/40   rProp utilizzata: RPropType.IRPROP_PLUS\n",
      "    Training Accuracy: 97.71454%,\n",
      "    Validation Accuracy: 95.2496%\n",
      "\n",
      "Epoca: 35/40   rProp utilizzata: RPropType.IRPROP_PLUS\n",
      "    Training Accuracy: 97.84371%,\n",
      "    Validation Accuracy: 95.24127%\n",
      "\n",
      "Epoca: 36/40   rProp utilizzata: RPropType.IRPROP_PLUS\n",
      "    Training Accuracy: 98.01246%,\n",
      "    Validation Accuracy: 95.39962%\n",
      "\n",
      "Epoca: 37/40   rProp utilizzata: RPropType.IRPROP_PLUS\n",
      "    Training Accuracy: 98.14371%,\n",
      "    Validation Accuracy: 95.40795%\n",
      "\n",
      "Epoca: 38/40   rProp utilizzata: RPropType.IRPROP_PLUS\n",
      "    Training Accuracy: 98.27496%,\n",
      "    Validation Accuracy: 95.52463%\n",
      "\n",
      "Epoca: 39/40   rProp utilizzata: RPropType.IRPROP_PLUS\n",
      "    Training Accuracy: 98.38122%,\n",
      "    Validation Accuracy: 95.49129%\n",
      "\n",
      "Epoca: 40/40   rProp utilizzata: RPropType.IRPROP_PLUS\n",
      "    Training Accuracy: 98.50414%,\n",
      "    Validation Accuracy: 95.55796%\n"
     ]
    }
   ],
   "source": [
    "from uninaannpy.neural_network import RPropType\n",
    "\n",
    "# Batch training improved rProp\n",
    "iplus_train_err, iplus_validation_err, iplus_train_accuracy, iplus_validation_accuracy = iplus_training_net.train_neural_network(train_in, train_labels, validation_in, validation_labels, epochs=40, learning_rate=0.00001, rprop_type=RPropType.IRPROP_PLUS)"
   ],
   "metadata": {
    "ExecuteTime": {
     "end_time": "2024-03-14T15:59:56.347098Z",
     "start_time": "2024-03-14T15:59:32.715558Z"
    }
   },
   "execution_count": 5
  },
  {
   "cell_type": "code",
   "execution_count": 6,
   "metadata": {
    "collapsed": false,
    "ExecuteTime": {
     "end_time": "2024-03-14T15:59:56.512049Z",
     "start_time": "2024-03-14T15:59:56.349476Z"
    }
   },
   "outputs": [
    {
     "data": {
      "text/plain": "<Figure size 640x480 with 1 Axes>",
      "image/png": "[encoded data removed]"
     },
     "metadata": {},
     "output_type": "display_data"
    }
   ],
   "source": [
    "from matplotlib import pyplot as plt\n",
    "\n",
    "# Stampa grafico dell'errore del training\n",
    "plt.figure()\n",
    "plt.plot(std_train_err, 'b', label='RPROP-')\n",
    "plt.plot(plus_train_err, 'r', label='RPROP+')\n",
    "plt.plot(istd_train_err, 'y', label='IRPROP-')\n",
    "plt.plot(iplus_train_err, 'g', label='IRPROP+')\n",
    "plt.xlabel('Epoche')\n",
    "plt.ylabel('Errori')\n",
    "plt.legend()\n",
    "plt.show()"
   ]
  },
  {
   "cell_type": "code",
   "outputs": [
    {
     "data": {
      "text/plain": "<Figure size 640x480 with 1 Axes>",
      "image/png": "[encoded data removed]"
     },
     "metadata": {},
     "output_type": "display_data"
    }
   ],
   "source": [
    "from matplotlib import pyplot as plt\n",
    "\n",
    "# Stampa grafico dell'errore del validation\n",
    "plt.figure()\n",
    "plt.plot(std_validation_err, 'b', label='RPROP-')\n",
    "plt.plot(plus_validation_err, 'r', label='RPROP+')\n",
    "plt.plot(istd_validation_err, 'y', label='IRPROP-')\n",
    "plt.plot(iplus_validation_err, 'g', label='IRPROP+')\n",
    "plt.xlabel('Epoche')\n",
    "plt.ylabel('Errori')\n",
    "plt.legend()\n",
    "plt.show()"
   ],
   "metadata": {
    "collapsed": false,
    "ExecuteTime": {
     "end_time": "2024-03-14T15:59:56.607160Z",
     "start_time": "2024-03-14T15:59:56.513635Z"
    }
   },
   "execution_count": 7
  },
  {
   "cell_type": "code",
   "outputs": [
    {
     "data": {
      "text/plain": "<Figure size 640x480 with 1 Axes>",
      "image/png": "[encoded data removed]"
     },
     "metadata": {},
     "output_type": "display_data"
    }
   ],
   "source": [
    "from matplotlib import pyplot as plt\n",
    "\n",
    "# Stampa grafico della precisione del training\n",
    "plt.figure()\n",
    "plt.plot(std_train_accuracy, 'b', label='RPROP-')\n",
    "plt.plot(plus_train_accuracy, 'r', label='RPROP+')\n",
    "plt.plot(istd_train_accuracy, 'y', label='IRPROP-')\n",
    "plt.plot(iplus_train_accuracy, 'g', label='IRPROP+')\n",
    "plt.xlabel('Epoche')\n",
    "plt.ylabel('Precisione')\n",
    "plt.legend()\n",
    "plt.show()"
   ],
   "metadata": {
    "collapsed": false,
    "ExecuteTime": {
     "end_time": "2024-03-14T15:59:56.672395Z",
     "start_time": "2024-03-14T15:59:56.608083Z"
    }
   },
   "execution_count": 8
  },
  {
   "cell_type": "code",
   "outputs": [
    {
     "data": {
      "text/plain": "<Figure size 640x480 with 1 Axes>",
      "image/png": "[encoded data removed]"
     },
     "metadata": {},
     "output_type": "display_data"
    }
   ],
   "source": [
    "from matplotlib import pyplot as plt\n",
    "\n",
    "# Stampa grafico della precisione del validation\n",
    "plt.figure()\n",
    "plt.plot(std_validation_accuracy, 'b', label='RPROP-')\n",
    "plt.plot(plus_validation_accuracy, 'r', label='RPROP+')\n",
    "plt.plot(istd_validation_accuracy, 'y', label='IRPROP-')\n",
    "plt.plot(iplus_validation_accuracy, 'g', label='IRPROP+')\n",
    "plt.xlabel('Epoche')\n",
    "plt.ylabel('Precisione')\n",
    "plt.legend()\n",
    "plt.show()"
   ],
   "metadata": {
    "ExecuteTime": {
     "end_time": "2024-03-14T15:59:56.737788Z",
     "start_time": "2024-03-14T15:59:56.673623Z"
    }
   },
   "execution_count": 9
  },
  {
   "cell_type": "code",
   "execution_count": 10,
   "metadata": {
    "collapsed": false,
    "ExecuteTime": {
     "end_time": "2024-03-14T15:59:56.876496Z",
     "start_time": "2024-03-14T15:59:56.738748Z"
    }
   },
   "outputs": [
    {
     "name": "stdout",
     "output_type": "stream",
     "text": [
      "Test RProp-\n",
      "Test accuracy: 94.77707%\n",
      "Train accuracy: 97.90412%\n"
     ]
    }
   ],
   "source": [
    "#Stampa accuracy per training e test set\n",
    "\n",
    "std_training_net.print_accuracies('Test RProp-', test_in, test_labels, train_in, train_labels)"
   ]
  },
  {
   "cell_type": "code",
   "outputs": [
    {
     "name": "stdout",
     "output_type": "stream",
     "text": [
      "Test RProp+\n",
      "Test accuracy: 94.26752%\n",
      "Train accuracy: 97.09994%\n"
     ]
    }
   ],
   "source": [
    "#Stampa accuracy per training e test set\n",
    "\n",
    "plus_training_net.print_accuracies('Test RProp+', test_in, test_labels, train_in, train_labels)"
   ],
   "metadata": {
    "collapsed": false,
    "ExecuteTime": {
     "end_time": "2024-03-14T15:59:57.041330Z",
     "start_time": "2024-03-14T15:59:56.881844Z"
    }
   },
   "execution_count": 11
  },
  {
   "cell_type": "code",
   "outputs": [
    {
     "name": "stdout",
     "output_type": "stream",
     "text": [
      "Test iRProp-\n",
      "Test accuracy: 95.5414%\n",
      "Train accuracy: 98.23746%\n"
     ]
    }
   ],
   "source": [
    "#Stampa accuracy per training e test set\n",
    "\n",
    "istd_training_net.print_accuracies('Test iRProp-', test_in, test_labels, train_in, train_labels)"
   ],
   "metadata": {
    "collapsed": false,
    "ExecuteTime": {
     "end_time": "2024-03-14T15:59:57.236027Z",
     "start_time": "2024-03-14T15:59:57.043192Z"
    }
   },
   "execution_count": 12
  },
  {
   "cell_type": "code",
   "outputs": [
    {
     "name": "stdout",
     "output_type": "stream",
     "text": [
      "Test iRProp+\n",
      "Test accuracy: 94.52229%\n",
      "Train accuracy: 98.38122%\n"
     ]
    }
   ],
   "source": [
    "#Stampa accuracy per training e test set\n",
    "\n",
    "iplus_training_net.print_accuracies('Test iRProp+', test_in, test_labels, train_in, train_labels)"
   ],
   "metadata": {
    "ExecuteTime": {
     "end_time": "2024-03-14T15:59:57.391726Z",
     "start_time": "2024-03-14T15:59:57.237192Z"
    }
   },
   "execution_count": 13
  },
  {
   "cell_type": "code",
   "execution_count": 14,
   "metadata": {
    "collapsed": false,
    "ExecuteTime": {
     "end_time": "2024-03-14T15:59:57.501728Z",
     "start_time": "2024-03-14T15:59:57.397650Z"
    }
   },
   "outputs": [
    {
     "name": "stdout",
     "output_type": "stream",
     "text": [
      "Test rProp-\n",
      "Probabilità predette dalla rete non addestrata:\n",
      "Classe 0: 4.9005%\n",
      "Classe 1: 11.89351%\n",
      "Classe 2: 6.56743%\n",
      "Classe 3: 9.82189%\n",
      "Classe 4: 20.63606%\n",
      "Classe 5: 7.28731%\n",
      "Classe 6: 9.43985%\n",
      "Classe 7: 3.1875%\n",
      "Classe 8: 10.30016%\n",
      "Classe 9: 15.9658%\n",
      "\n",
      "Probabilità predette dalla rete addestrata:\n",
      "Classe 0: 2e-05%\n",
      "Classe 1: 1e-05%\n",
      "Classe 2: 2e-05%\n",
      "Classe 3: 99.99886%\n",
      "Classe 4: 0.0%\n",
      "Classe 5: 0.00031%\n",
      "Classe 6: 1e-05%\n",
      "Classe 7: 0.0%\n",
      "Classe 8: 0.00063%\n",
      "Classe 9: 0.00013%\n"
     ]
    },
    {
     "data": {
      "text/plain": "<Figure size 640x480 with 1 Axes>",
      "image/png": "[encoded data removed]"
     },
     "metadata": {},
     "output_type": "display_data"
    }
   ],
   "source": [
    "#Predizione rete senza addestramento e rete addestrata\n",
    "image = 47993\n",
    "\n",
    "print('Test rProp-')\n",
    "ut.test_prediction(net, std_training_net, image, train_in)"
   ]
  },
  {
   "cell_type": "code",
   "outputs": [
    {
     "name": "stdout",
     "output_type": "stream",
     "text": [
      "Test rProp+\n",
      "Probabilità predette dalla rete non addestrata:\n",
      "Classe 0: 4.9005%\n",
      "Classe 1: 11.89351%\n",
      "Classe 2: 6.56743%\n",
      "Classe 3: 9.82189%\n",
      "Classe 4: 20.63606%\n",
      "Classe 5: 7.28731%\n",
      "Classe 6: 9.43985%\n",
      "Classe 7: 3.1875%\n",
      "Classe 8: 10.30016%\n",
      "Classe 9: 15.9658%\n",
      "\n",
      "Probabilità predette dalla rete addestrata:\n",
      "Classe 0: 3e-05%\n",
      "Classe 1: 0.00015%\n",
      "Classe 2: 3e-05%\n",
      "Classe 3: 99.97573%\n",
      "Classe 4: 4e-05%\n",
      "Classe 5: 0.01694%\n",
      "Classe 6: 1e-05%\n",
      "Classe 7: 0.0%\n",
      "Classe 8: 0.00633%\n",
      "Classe 9: 0.00075%\n"
     ]
    },
    {
     "data": {
      "text/plain": "<Figure size 640x480 with 1 Axes>",
      "image/png": "[encoded data removed]"
     },
     "metadata": {},
     "output_type": "display_data"
    }
   ],
   "source": [
    "#Predizione rete senza addestramento e rete addestrata\n",
    "image = 47993\n",
    "\n",
    "print('Test rProp+')\n",
    "ut.test_prediction(net, plus_training_net, image, train_in)"
   ],
   "metadata": {
    "collapsed": false,
    "ExecuteTime": {
     "end_time": "2024-03-14T15:59:57.605264Z",
     "start_time": "2024-03-14T15:59:57.503738Z"
    }
   },
   "execution_count": 15
  },
  {
   "cell_type": "code",
   "outputs": [
    {
     "name": "stdout",
     "output_type": "stream",
     "text": [
      "Test irProp-\n",
      "Probabilità predette dalla rete non addestrata:\n",
      "Classe 0: 4.9005%\n",
      "Classe 1: 11.89351%\n",
      "Classe 2: 6.56743%\n",
      "Classe 3: 9.82189%\n",
      "Classe 4: 20.63606%\n",
      "Classe 5: 7.28731%\n",
      "Classe 6: 9.43985%\n",
      "Classe 7: 3.1875%\n",
      "Classe 8: 10.30016%\n",
      "Classe 9: 15.9658%\n",
      "\n",
      "Probabilità predette dalla rete addestrata:\n",
      "Classe 0: 5e-05%\n",
      "Classe 1: 0.00097%\n",
      "Classe 2: 0.00029%\n",
      "Classe 3: 99.99%\n",
      "Classe 4: 0.00014%\n",
      "Classe 5: 0.00599%\n",
      "Classe 6: 2e-05%\n",
      "Classe 7: 4e-05%\n",
      "Classe 8: 0.00068%\n",
      "Classe 9: 0.00183%\n"
     ]
    },
    {
     "data": {
      "text/plain": "<Figure size 640x480 with 1 Axes>",
      "image/png": "[encoded data removed]"
     },
     "metadata": {},
     "output_type": "display_data"
    }
   ],
   "source": [
    "#Predizione rete senza addestramento e rete addestrata\n",
    "image = 47993\n",
    "\n",
    "print('Test irProp-')\n",
    "ut.test_prediction(net, istd_training_net, image, train_in)"
   ],
   "metadata": {
    "collapsed": false,
    "ExecuteTime": {
     "end_time": "2024-03-14T15:59:57.753014Z",
     "start_time": "2024-03-14T15:59:57.608263Z"
    }
   },
   "execution_count": 16
  },
  {
   "cell_type": "code",
   "outputs": [
    {
     "name": "stdout",
     "output_type": "stream",
     "text": [
      "Test irProp+\n",
      "Probabilità predette dalla rete non addestrata:\n",
      "Classe 0: 4.9005%\n",
      "Classe 1: 11.89351%\n",
      "Classe 2: 6.56743%\n",
      "Classe 3: 9.82189%\n",
      "Classe 4: 20.63606%\n",
      "Classe 5: 7.28731%\n",
      "Classe 6: 9.43985%\n",
      "Classe 7: 3.1875%\n",
      "Classe 8: 10.30016%\n",
      "Classe 9: 15.9658%\n",
      "\n",
      "Probabilità predette dalla rete addestrata:\n",
      "Classe 0: 2e-05%\n",
      "Classe 1: 0.00068%\n",
      "Classe 2: 0.00031%\n",
      "Classe 3: 99.98793%\n",
      "Classe 4: 0.0%\n",
      "Classe 5: 0.00482%\n",
      "Classe 6: 1e-05%\n",
      "Classe 7: 2e-05%\n",
      "Classe 8: 0.00619%\n",
      "Classe 9: 3e-05%\n"
     ]
    },
    {
     "data": {
      "text/plain": "<Figure size 640x480 with 1 Axes>",
      "image/png": "[encoded data removed]"
     },
     "metadata": {},
     "output_type": "display_data"
    }
   ],
   "source": [
    "#Predizione rete senza addestramento e rete addestrata\n",
    "image = 47993\n",
    "\n",
    "print('Test irProp+')\n",
    "ut.test_prediction(net, iplus_training_net, image, train_in)"
   ],
   "metadata": {
    "ExecuteTime": {
     "end_time": "2024-03-14T15:59:57.857498Z",
     "start_time": "2024-03-14T15:59:57.754439Z"
    }
   },
   "execution_count": 17
  },
  {
   "cell_type": "code",
   "outputs": [],
   "source": [],
   "metadata": {
    "collapsed": false,
    "ExecuteTime": {
     "end_time": "2024-03-14T15:59:57.879611Z",
     "start_time": "2024-03-14T15:59:57.863505Z"
    }
   },
   "execution_count": 17
  }
 ],
 "metadata": {
  "kernelspec": {
   "display_name": "Python 3",
   "language": "python",
   "name": "python3"
  },
  "language_info": {
   "codemirror_mode": {
    "name": "ipython",
    "version": 3
   },
   "file_extension": ".py",
   "mimetype": "text/x-python",
   "name": "python",
   "nbconvert_exporter": "python",
   "pygments_lexer": "ipython3",
   "version": "3.9.10"
  }
 },
 "nbformat": 4,
 "nbformat_minor": 2
}
